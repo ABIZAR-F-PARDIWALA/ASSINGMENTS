{
 "cells": [
  {
   "cell_type": "markdown",
   "id": "5e8606f9-7455-4be7-a391-12adf3d3cea1",
   "metadata": {},
   "source": [
    "Q-1 Create a python program to sort the given list of tuples based on integer value using a lambda function.\n",
    "[('Sachin Tendulkar' . 34357) , ('Ricky Ponting' , 27483) , ('Jack Kallis' , 25534) , ('Virat Kohli' , 24936)]"
   ]
  },
  {
   "cell_type": "code",
   "execution_count": 2,
   "id": "b7cd9ca6-52f8-4abb-8b79-5f4d2930bc4f",
   "metadata": {},
   "outputs": [
    {
     "name": "stdout",
     "output_type": "stream",
     "text": [
      "('Virat Kohli', 24936)\n",
      "('Jack Kallis', 25534)\n",
      "('Ricky Ponting', 27483)\n",
      "('Sachin Tendulkar', 34357)\n"
     ]
    }
   ],
   "source": [
    "data = [('Sachin Tendulkar', 34357), ('Ricky Ponting', 27483), ('Jack Kallis', 25534), ('Virat Kohli', 24936)]\n",
    "\n",
    "# Sort the list of tuples based on the second element (integer value)\n",
    "sorted_data = sorted(data, key=lambda x: x[1])\n",
    "\n",
    "# Print the sorted list\n",
    "for player in sorted_data:\n",
    "    print(player)\n"
   ]
  },
  {
   "cell_type": "markdown",
   "id": "a346515f-8775-4af0-bee9-3f5ee23722b9",
   "metadata": {},
   "source": [
    "Q-2 Write a Python Program to find the squares of all the numbers in the given list of integers using lambda and map functtions.\n",
    "[1,2,3,4,5,6,7,8,9,10]"
   ]
  },
  {
   "cell_type": "code",
   "execution_count": 12,
   "id": "4d96dbce-620b-4f33-8523-d8442503405e",
   "metadata": {},
   "outputs": [
    {
     "data": {
      "text/plain": [
       "[1, 4, 9, 16, 25, 36, 49, 64, 81, 100]"
      ]
     },
     "execution_count": 12,
     "metadata": {},
     "output_type": "execute_result"
    }
   ],
   "source": [
    "l = [1,2,3,4,5,6,7,8,9,10]\n",
    "a= list(map(lambda x: x**2, l))\n",
    "a"
   ]
  },
  {
   "cell_type": "markdown",
   "id": "90e006cc-0346-4d0a-a374-b68382719884",
   "metadata": {},
   "source": [
    "Q-3 Write a python program to convert the given list of integers into a tuple of strings. Use map and lambda functions. \n",
    "Given String: [1,2,3,4,5,6,7,8,9,10]\n",
    "Expected output:('1','2','3','4','5','6','7','8','9','10')"
   ]
  },
  {
   "cell_type": "markdown",
   "id": "1943a6c1-9c65-4b68-8f56-78b1c2448057",
   "metadata": {},
   "source": [
    "l = [1,2,3,4,5,6,7,8,9,10]\n",
    "a = tuple(map(lambda x: str(x), l))\n",
    "a"
   ]
  },
  {
   "cell_type": "markdown",
   "id": "bc374c46-2ea2-48e3-9e60-0b60f19a5ea1",
   "metadata": {},
   "source": [
    "Q-4 Write a python program using reduce function to compute the product of a list containing numbers from 1 to 25"
   ]
  },
  {
   "cell_type": "code",
   "execution_count": 19,
   "id": "af59bd2e-b592-486a-bb21-9cbb37980fd5",
   "metadata": {},
   "outputs": [
    {
     "data": {
      "text/plain": [
       "15511210043330985984000000"
      ]
     },
     "execution_count": 19,
     "metadata": {},
     "output_type": "execute_result"
    }
   ],
   "source": [
    "from functools import reduce\n",
    "\n",
    "l = [1,2,3,4,5,6,7,8,9,10,11,12,13,14,15,16,17,18,19,20,21,22,23,24,25]\n",
    "reduce(lambda x,y : x*y, l)"
   ]
  },
  {
   "cell_type": "markdown",
   "id": "a2890478-a77b-42d0-9820-33ebee026db1",
   "metadata": {},
   "source": [
    "Q-5 Write a python program to filter the numbers in a given list that are divisible by 2 and 3 using the filter functilon.\n",
    "[2,3,6,9,27,60,90,120,55,46]"
   ]
  },
  {
   "cell_type": "code",
   "execution_count": 22,
   "id": "1a962d88-b453-4fd2-8191-bac213769d9b",
   "metadata": {},
   "outputs": [
    {
     "data": {
      "text/plain": [
       "[6, 60, 90, 120]"
      ]
     },
     "execution_count": 22,
     "metadata": {},
     "output_type": "execute_result"
    }
   ],
   "source": [
    "l1 = [2,3,6,9,27,60,90,120,55,46]\n",
    "a = list(filter(lambda x:  x%2==0 and x%3==0, l1))\n",
    "a"
   ]
  },
  {
   "cell_type": "markdown",
   "id": "c0c851e3-6a83-4198-bfa9-0a77fed395fc",
   "metadata": {},
   "source": [
    "Q-6 Write a python program to find palindromes in the given list of using strings using lambda and filter function.\n",
    "['python', 'php', 'aba', 'radar', 'level'] "
   ]
  },
  {
   "cell_type": "code",
   "execution_count": 29,
   "id": "074a46da-ca04-4fd9-940f-f9a30955c263",
   "metadata": {},
   "outputs": [
    {
     "data": {
      "text/plain": [
       "['php', 'aba', 'radar', 'level']"
      ]
     },
     "execution_count": 29,
     "metadata": {},
     "output_type": "execute_result"
    }
   ],
   "source": [
    "a = ['python', 'php', 'aba', 'radar', 'level']\n",
    "p = list(filter(lambda x: x == x[::-1], a))\n",
    "p"
   ]
  },
  {
   "cell_type": "code",
   "execution_count": null,
   "id": "de37acb6-769e-4d21-989b-5ce53b237dfb",
   "metadata": {},
   "outputs": [],
   "source": []
  }
 ],
 "metadata": {
  "kernelspec": {
   "display_name": "Python 3 (ipykernel)",
   "language": "python",
   "name": "python3"
  },
  "language_info": {
   "codemirror_mode": {
    "name": "ipython",
    "version": 3
   },
   "file_extension": ".py",
   "mimetype": "text/x-python",
   "name": "python",
   "nbconvert_exporter": "python",
   "pygments_lexer": "ipython3",
   "version": "3.10.8"
  }
 },
 "nbformat": 4,
 "nbformat_minor": 5
}
