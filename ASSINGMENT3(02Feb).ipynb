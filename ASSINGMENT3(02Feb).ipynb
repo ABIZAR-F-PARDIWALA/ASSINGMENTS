{
 "cells": [
  {
   "cell_type": "markdown",
   "id": "aab5f922-26d7-4639-af1b-a78ee79be134",
   "metadata": {},
   "source": [
    "Q-1 Explain with an example each when to use a for loop and a while loop."
   ]
  },
  {
   "cell_type": "markdown",
   "id": "9a1bff42-8d5f-4380-94c0-b01f3c4f7ffc",
   "metadata": {},
   "source": [
    "Ans- Examples of when to use a `for` loop and a `while` loop:\n",
    "\n",
    "### For Loop:\n",
    "\n",
    "**Use Case: Known Number of Iterations**\n",
    "\n",
    "A `for` loop is typically used when you know in advance how many times you want to iterate. It's well-suited for situations where you have a collection or a range of values to iterate over.\n",
    "\n",
    "**Example: Printing numbers from 1 to 5**\n",
    "\n",
    "```python\n",
    "for i in range(1, 6):\n",
    "    print(i)\n",
    "```\n",
    "\n",
    "In this example, the loop will iterate five times, printing the numbers 1 through 5.\n",
    "\n",
    "### While Loop:\n",
    "\n",
    "**Use Case: Unknown Number of Iterations**\n",
    "\n",
    "A `while` loop is used when you don't know the number of iterations in advance, and the loop continues as long as a certain condition is true.\n",
    "\n",
    "**Example: Summing numbers until a threshold is reached**\n",
    "\n",
    "```python\n",
    "total = 0\n",
    "num = 1\n",
    "\n",
    "while total < 10:\n",
    "    total += num\n",
    "    num += 1\n",
    "\n",
    "print(\"Sum:\", total)\n",
    "```\n",
    "\n",
    "In this example, the loop continues to add numbers to the `total` variable until it reaches or exceeds 10. The number of iterations is not known in advance.\n",
    "\n",
    "### Choosing between For and While:\n",
    "\n",
    "- Use a `for` loop when you know the number of iterations beforehand and you want to iterate over a sequence or a range.\n",
    "- Use a `while` loop when you need to iterate until a certain condition is met and the number of iterations is not known in advance.\n",
    "\n",
    "Remember that using the appropriate loop depends on the specific requirements of your task."
   ]
  },
  {
   "cell_type": "markdown",
   "id": "d5152bdf-d503-4fe1-8ed7-390646f2e92f",
   "metadata": {},
   "source": [
    "Q-2 Write a python program to print the sum and product of the first 10 natural numbers using for and while loop."
   ]
  },
  {
   "cell_type": "code",
   "execution_count": 9,
   "id": "5fe65eb9-cac2-44e9-90ab-b12885f4b9f8",
   "metadata": {},
   "outputs": [
    {
     "name": "stdout",
     "output_type": "stream",
     "text": [
      "Using For Loop:\n",
      "Sum: 55\n",
      "Product: 3628800\n",
      "\n",
      "Using While Loop:\n",
      "Sum: 55\n",
      "Product: 3628800\n"
     ]
    }
   ],
   "source": [
    "#Ans-\n",
    "# Using For Loop\n",
    "sum_for = 0\n",
    "product_for = 1\n",
    "\n",
    "for num in range(1, 11):\n",
    "    sum_for += num\n",
    "    product_for *= num\n",
    "\n",
    "print(\"Using For Loop:\")\n",
    "print(\"Sum:\", sum_for)\n",
    "print(\"Product:\", product_for)\n",
    "\n",
    "# Reset variables for While Loop\n",
    "sum_while = 0\n",
    "product_while = 1\n",
    "counter = 1\n",
    "\n",
    "# Using While Loop\n",
    "while counter <= 10:\n",
    "    sum_while += counter\n",
    "    product_while *= counter\n",
    "    counter += 1\n",
    "\n",
    "print(\"\\nUsing While Loop:\")\n",
    "print(\"Sum:\", sum_while)\n",
    "print(\"Product:\", product_while)"
   ]
  },
  {
   "cell_type": "markdown",
   "id": "3c124c90-eb2c-4f53-8cd5-8ab691ed9b0f",
   "metadata": {},
   "source": [
    "Q-3 Create a python program to compute the electricity bill for a household.\n",
    "The per-unit charges in rupees are as follows: For the first 100 units, the user will be charged Rs. 4.5 per unit, for the next 100 units, the user will be charged Rs. 6 per unit, and for the next 100 units, the user will be charged Rs. 10 per unit, After 300 units and above the user will be charged Rs. 20 per unit.\n",
    "You are required to take the units of electricity consumed in a month from the user as input."
   ]
  },
  {
   "cell_type": "code",
   "execution_count": 8,
   "id": "dcbb8a2f-ad29-43cc-8d87-6a6364f7f14e",
   "metadata": {},
   "outputs": [
    {
     "name": "stdin",
     "output_type": "stream",
     "text": [
      "Enter Units-> 310\n"
     ]
    },
    {
     "name": "stdout",
     "output_type": "stream",
     "text": [
      "UNITS_CONSUMED 310.0\n",
      "TOTAL ELECTRICITY BILL IS-> 2250.0\n"
     ]
    }
   ],
   "source": [
    "#Ans\n",
    "U_C = float(input(\"Enter Units->\"))\n",
    "U1 = 4.5\n",
    "U2 = 6\n",
    "U3 = 10\n",
    "U4 = 20\n",
    "Bill = 0 \n",
    "            \n",
    "if (U_C <= 100) :\n",
    "    Bill = U_C*U1\n",
    "            \n",
    "elif (U_C > 100 and U_C <= 200) :\n",
    "    Bill =(100*U1)+((U_C-100)*U2)\n",
    "\n",
    "elif (U_C > 200 and U_C <= 300) :\n",
    "    Bill =(100*U1)+(100*U2)+((U_C-200)*U3)\n",
    "            \n",
    "else :\n",
    "    Bill =(100*U1)+(100*U2)+(100*U3)+((U_C-300)*U4)\n",
    "            \n",
    "print(\"UNITS_CONSUMED\" , U_C)\n",
    "print(\"TOTAL ELECTRICITY BILL IS->\" , Bill)"
   ]
  },
  {
   "cell_type": "markdown",
   "id": "dd9443da-be49-4764-863c-add5b4897f6a",
   "metadata": {},
   "source": [
    "Q-4 Create a list of numbers from 1 to 100. Use for loop and while loop to calculate the cube of each number and if the cube of that number is divisible by 4 or 5 then append that number in a list and print that list."
   ]
  },
  {
   "cell_type": "code",
   "execution_count": 7,
   "id": "a6096538-efdf-401d-81b4-aa4c815be97c",
   "metadata": {},
   "outputs": [
    {
     "name": "stdout",
     "output_type": "stream",
     "text": [
      "Using For Loop:\n",
      "Numbers whose cubes are divisible by 4 or 5: [2, 4, 5, 6, 8, 10, 12, 14, 15, 16, 18, 20, 22, 24, 25, 26, 28, 30, 32, 34, 35, 36, 38, 40, 42, 44, 45, 46, 48, 50, 52, 54, 55, 56, 58, 60, 62, 64, 65, 66, 68, 70, 72, 74, 75, 76, 78, 80, 82, 84, 85, 86, 88, 90, 92, 94, 95, 96, 98, 100]\n",
      "\n",
      "Using While Loop:\n",
      "Numbers whose cubes are divisible by 4 or 5: [2, 4, 5, 6, 8, 10, 12, 14, 15, 16, 18, 20, 22, 24, 25, 26, 28, 30, 32, 34, 35, 36, 38, 40, 42, 44, 45, 46, 48, 50, 52, 54, 55, 56, 58, 60, 62, 64, 65, 66, 68, 70, 72, 74, 75, 76, 78, 80, 82, 84, 85, 86, 88, 90, 92, 94, 95, 96, 98, 100]\n"
     ]
    }
   ],
   "source": [
    "#Ans\n",
    "#Python program that creates a list of numbers from 1 to 100, calculates the cube of each number using both `for` and `while` loops, and appends numbers whose cubes are divisible by 4 or 5 to a new list:\n",
    "\n",
    "# Using For Loop\n",
    "cubes_for = []\n",
    "for num in range(1, 101):\n",
    "    cube = num ** 3\n",
    "    if cube % 4 == 0 or cube % 5 == 0:\n",
    "        cubes_for.append(num)\n",
    "\n",
    "print(\"Using For Loop:\")\n",
    "print(\"Numbers whose cubes are divisible by 4 or 5:\", cubes_for)\n",
    "\n",
    "# Using While Loop\n",
    "cubes_while = []\n",
    "counter = 1\n",
    "\n",
    "# Using While Loop\n",
    "while counter <= 100:\n",
    "    cube = counter ** 3\n",
    "    if cube % 4 == 0 or cube % 5 == 0:\n",
    "        cubes_while.append(counter)\n",
    "    counter += 1\n",
    "\n",
    "print(\"\\nUsing While Loop:\")\n",
    "print(\"Numbers whose cubes are divisible by 4 or 5:\", cubes_while)\n",
    "\n",
    "\n",
    "#In this program:\n",
    "\n",
    "#- The `for` loop iterates over the numbers from 1 to 100, calculates the cube of each number, and appends the numbers whose cubes are divisible by 4 or 5 to the `cubes_for` list.\n",
    "\n",
    "#- The `while` loop does the same but uses a counter variable to control the loop until it reaches 100.\n",
    "\n",
    "#Both loops will output the list of numbers whose cubes are divisible by 4 or 5."
   ]
  },
  {
   "cell_type": "markdown",
   "id": "2aba9806-63b9-4a40-b9f1-491f8a0892af",
   "metadata": {},
   "source": [
    "Q-5 Write a program to filter count vowels in the below-given string. \n",
    "string=\"I want to become a data scientist\""
   ]
  },
  {
   "cell_type": "code",
   "execution_count": 10,
   "id": "e36e24ad-2b62-4d03-aa32-f5669e18bd15",
   "metadata": {},
   "outputs": [
    {
     "name": "stdout",
     "output_type": "stream",
     "text": [
      "Number of vowels in the string: 12\n"
     ]
    }
   ],
   "source": [
    "#Ans\n",
    "#Python program that counts the number of vowels in the given string:\n",
    "\n",
    "string = (\"I want to become a data scientist\")\n",
    "\n",
    "vowel_count = 0\n",
    "\n",
    "vowels = set(\"aeiouAEIOU\")\n",
    "\n",
    "for char in string:\n",
    "    if char in vowels:\n",
    "        vowel_count += 1\n",
    "\n",
    "print(\"Number of vowels in the string:\", vowel_count)\n",
    "\n",
    "#This program iterates through each character in the given string and checks if the character is a vowel (either lowercase or uppercase). If a vowel is found, the `vowel_count` is incremented. Finally, the program prints the total count of vowels in the string."
   ]
  },
  {
   "cell_type": "code",
   "execution_count": null,
   "id": "630a4018-95e6-417e-b244-46775f476acc",
   "metadata": {},
   "outputs": [],
   "source": []
  }
 ],
 "metadata": {
  "kernelspec": {
   "display_name": "Python 3 (ipykernel)",
   "language": "python",
   "name": "python3"
  },
  "language_info": {
   "codemirror_mode": {
    "name": "ipython",
    "version": 3
   },
   "file_extension": ".py",
   "mimetype": "text/x-python",
   "name": "python",
   "nbconvert_exporter": "python",
   "pygments_lexer": "ipython3",
   "version": "3.10.8"
  }
 },
 "nbformat": 4,
 "nbformat_minor": 5
}
