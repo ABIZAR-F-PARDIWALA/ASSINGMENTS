{
 "cells": [
  {
   "cell_type": "markdown",
   "id": "f1c0eaa5-c2b2-405f-9802-2649bf0e0ef4",
   "metadata": {},
   "source": [
    "Q-1. What is Abstraction in Oops? Explain with an example."
   ]
  },
  {
   "cell_type": "markdown",
   "id": "4c009cb1-54b2-4f8a-a14e-724704c4ead6",
   "metadata": {},
   "source": [
    "In object-oriented programming (OOP), abstraction is a fundamental concept that allows you to model real-world entities as abstract data types. It involves hiding the complex implementation details of an object and exposing only the necessary features to the outside world. This simplifies the programming process by allowing you to focus on the essential characteristics of an object while hiding irrelevant details.\n",
    "\n",
    "In Python, abstraction can be achieved through classes and interfaces. Here's an example to illustrate abstraction using Python:\n",
    "\n",
    "```python\n",
    "from abc import ABC, abstractmethod\n",
    "\n",
    "class Shape(ABC):\n",
    "    @abstractmethod\n",
    "    def area(self):\n",
    "        pass\n",
    "\n",
    "    @abstractmethod\n",
    "    def perimeter(self):\n",
    "        pass\n",
    "\n",
    "class Rectangle(Shape):\n",
    "    def __init__(self, width, height):\n",
    "        self.width = width\n",
    "        self.height = height\n",
    "\n",
    "    def area(self):\n",
    "        return self.width * self.height\n",
    "\n",
    "    def perimeter(self):\n",
    "        return 2 * (self.width + self.height)\n",
    "\n",
    "class Circle(Shape):\n",
    "    def __init__(self, radius):\n",
    "        self.radius = radius\n",
    "\n",
    "    def area(self):\n",
    "        return 3.14 * self.radius * self.radius\n",
    "\n",
    "    def perimeter(self):\n",
    "        return 2 * 3.14 * self.radius\n",
    "\n",
    "# Using abstraction\n",
    "rectangle = Rectangle(5, 4)\n",
    "print(\"Area of rectangle:\", rectangle.area())\n",
    "print(\"Perimeter of rectangle:\", rectangle.perimeter())\n",
    "\n",
    "circle = Circle(3)\n",
    "print(\"Area of circle:\", circle.area())\n",
    "print(\"Perimeter of circle:\", circle.perimeter())\n",
    "```\n",
    "\n",
    "In this example, `Shape` is an abstract class that defines two abstract methods `area()` and `perimeter()`. These methods are declared but not implemented in the `Shape` class. This enforces any concrete subclass of `Shape` to provide implementations for these methods.\n",
    "\n",
    "Subclasses like `Rectangle` and `Circle` inherit from the `Shape` class and provide their own implementations for the `area()` and `perimeter()` methods. These subclasses encapsulate the details of how the area and perimeter are calculated for specific shapes. Users of these classes don't need to know the implementation details; they only need to know that they can call `area()` and `perimeter()` methods to get the respective results, thus abstracting away the implementation details."
   ]
  },
  {
   "cell_type": "markdown",
   "id": "aa4a4fca-2e3d-4a2c-b485-0b80cc112139",
   "metadata": {},
   "source": [
    "Q-2. Differentiate betwwen Abstraction and Encapsulation. Explain with an example."
   ]
  },
  {
   "cell_type": "markdown",
   "id": "d57140bd-c3af-4364-acc0-cbfe11c00b84",
   "metadata": {},
   "source": [
    "Abstraction and encapsulation are both important principles in object-oriented programming (OOP), but they serve different purposes.\n",
    "\n",
    "1. **Abstraction**:\n",
    "   - Abstraction is the concept of hiding the complex implementation details of an object and exposing only the essential features of the object to the outside world.\n",
    "   - It focuses on \"what\" an object does rather than \"how\" it does it.\n",
    "   - Abstraction is achieved through abstract classes, interfaces, and methods.\n",
    "   - It helps in simplifying the system by providing a clear separation between the interface and the implementation.\n",
    "\n",
    "2. **Encapsulation**:\n",
    "   - Encapsulation is the concept of bundling the data (attributes) and methods (functions) that operate on the data into a single unit or class.\n",
    "   - It helps in hiding the internal state of an object from the outside world and only exposes the necessary functionalities through methods.\n",
    "   - Encapsulation prevents direct access to an object's internal state, which can prevent unintended modifications or misuse.\n",
    "   - It promotes data hiding and reduces system complexity by enforcing access restrictions.\n",
    "\n",
    "Now, let's illustrate the difference between abstraction and encapsulation with an example:\n",
    "\n",
    "class Car:\n",
    "    def __init__(self, make, model, year):\n",
    "        self.make = make       # Encapsulated data\n",
    "        self.model = model     # Encapsulated data\n",
    "        self.year = year       # Encapsulated data\n",
    "        self.speed = 0         # Encapsulated data\n",
    "\n",
    "    def accelerate(self):\n",
    "        self.speed += 10\n",
    "\n",
    "    def brake(self):\n",
    "        self.speed -= 10\n",
    "\n",
    "    def get_speed(self):      # Abstraction\n",
    "        return self.speed     # Abstraction\n",
    "\n",
    "\n",
    "In this example:\n",
    "- **Encapsulation**: The `Car` class encapsulates the attributes `make`, `model`, `year`, and `speed` within the class. These attributes are accessed and modified only through methods (`accelerate()`, `brake()`) provided by the class. Direct access to these attributes from outside the class is prevented, ensuring data integrity and preventing unintended modifications.\n",
    "- **Abstraction**: The `get_speed()` method abstracts the implementation details of how the speed is stored or updated. Users of the `Car` class don't need to know the internal details of how the speed is managed; they only need to call the `get_speed()` method to retrieve the current speed. This abstraction hides the complexity of the `speed` attribute's implementation."
   ]
  },
  {
   "cell_type": "markdown",
   "id": "66f1f860-26ca-4490-8b70-5d95c8601bfb",
   "metadata": {},
   "source": [
    "Q-3. What is abc module in python? Why it is used?"
   ]
  },
  {
   "cell_type": "markdown",
   "id": "7e351868-4789-456e-858e-fb032e0284ab",
   "metadata": {},
   "source": [
    "The abc module in Python stands for \"Abstract Base Classes.\" It provides facilities for creating abstract base classes (ABCs). Abstract base classes are classes that cannot be instantiated themselves but serve as a blueprint for other classes. They define a set of methods that must be implemented by concrete subclasses.\n",
    "\n",
    "The abc module is used primarily for enforcing a particular interface or API on a set of subclasses. It allows you to define a common interface for a group of related classes, ensuring that they implement certain methods or properties.\n",
    "\n",
    "Here are some key points about the abc module:\n",
    "\n",
    "Defining Abstract Base Classes (ABCs): You can define abstract base classes using the ABC class from the abc module and the abstractmethod decorator. Methods decorated with @abstractmethod in the ABC must be implemented by concrete subclasses.\n",
    "\n",
    "Enforcing Method Implementation: ABCs help in enforcing a common API among a group of related classes. Any class that inherits from an ABC must implement all abstract methods defined in the ABC.\n",
    "\n",
    "Preventing Instantiation of ABCs: ABCs cannot be instantiated directly. They are meant to be subclassed. Attempting to instantiate an ABC directly will raise a TypeError.\n",
    "\n",
    "Type Checking and Duck Typing: ABCs can also be used for type checking. They allow you to check whether an object conforms to a particular interface rather than a specific type.\n",
    "\n"
   ]
  },
  {
   "cell_type": "markdown",
   "id": "2c075eaf-45ef-4059-8362-d11e8391528e",
   "metadata": {},
   "source": [
    "Q-4. How can we achieve data abstraction?"
   ]
  },
  {
   "cell_type": "markdown",
   "id": "d7369acb-d9e7-47a2-9351-1928fc848b7f",
   "metadata": {},
   "source": [
    "Data abstraction can be achieved in Python through various mechanisms. Here are some common approaches:\n",
    "\n",
    "1. **Encapsulation**: Encapsulation is the process of bundling the data (attributes) and methods (functions) that operate on the data into a single unit or class. By defining classes and controlling access to their attributes and methods, you can encapsulate the data and behavior, hiding the internal details from the outside world. This promotes data abstraction by allowing you to interact with objects at a higher level without worrying about the implementation details.\n",
    "\n",
    "2. **Abstract Base Classes (ABCs)**: Python's `abc` module allows you to define abstract base classes (ABCs) and abstract methods. Abstract methods are defined using the `abstractmethod` decorator and must be implemented by concrete subclasses. By defining abstract methods that represent the essential behavior or interface of a class, you can enforce data abstraction by ensuring that subclasses provide implementations for these methods.\n",
    "\n",
    "3. **Property Decorators**: Python's property decorators (`@property`, `@property.setter`, `@property.deleter`) allow you to define computed properties with getter, setter, and deleter methods. By using property decorators, you can encapsulate the access to attributes and provide computed or derived values without exposing the internal state directly.\n",
    "\n",
    "4. **Data Hiding**: Python supports the concept of data hiding through name mangling. Prefixing an attribute name with double underscores (`__`) makes it private to the class, preventing direct access from outside the class. While not a strict enforcement mechanism, this convention encourages data abstraction by discouraging direct manipulation of internal attributes.\n",
    "\n",
    "5. **Use of Interfaces**: Although Python does not have built-in support for interfaces like some other programming languages, you can achieve a similar effect by defining abstract base classes with abstract methods. By defining interfaces that represent a set of related operations or behaviors, you can promote data abstraction by providing a clear contract for classes to adhere to.\n",
    "\n",
    "By applying these techniques judiciously, you can achieve data abstraction in Python, allowing you to design clean, modular, and maintainable code that hides implementation details and promotes a higher level of interaction with objects."
   ]
  },
  {
   "cell_type": "markdown",
   "id": "b3cfce22-baaa-48fe-9f01-57dba483944b",
   "metadata": {},
   "source": [
    "Q-5. Can we create an instance of an abstract class? Explain your answer."
   ]
  },
  {
   "cell_type": "markdown",
   "id": "fd2b8e69-6eab-4db5-81bc-7e324e5af936",
   "metadata": {},
   "source": [
    "In Python, you cannot directly create an instance of an abstract class. Attempting to instantiate an abstract class will result in a `TypeError`.\n",
    "\n",
    "Abstract classes are meant to be used as base classes for other classes. They define a common interface or set of methods that must be implemented by concrete subclasses. By themselves, abstract classes often lack complete implementations of their methods and are intended to be extended by subclasses to provide concrete implementations.\n",
    "\n",
    "Python provides the `abc` module for defining abstract base classes (ABCs) and abstract methods. Abstract methods are defined using the `abstractmethod` decorator, indicating that subclasses must override these methods.\n",
    "\n",
    "Here's an example to illustrate the point:\n",
    "\n",
    "```python\n",
    "from abc import ABC, abstractmethod\n",
    "\n",
    "class Animal(ABC):\n",
    "    @abstractmethod\n",
    "    def make_sound(self):\n",
    "        pass\n",
    "\n",
    "class Dog(Animal):\n",
    "    def make_sound(self):\n",
    "        return \"Woof!\"\n",
    "\n",
    "class Cat(Animal):\n",
    "    def make_sound(self):\n",
    "        return \"Meow!\"\n",
    "\n",
    "# Attempting to instantiate the abstract class will raise a TypeError\n",
    "# animal = Animal()  # This will result in a TypeError\n",
    "```\n",
    "\n",
    "In this example, `Animal` is an abstract class with the abstract method `make_sound()`. Attempting to create an instance of `Animal` directly (`Animal()`) will raise a `TypeError` because abstract classes cannot be instantiated.\n",
    "\n",
    "Instead, you would create instances of concrete subclasses such as `Dog` or `Cat`, which provide concrete implementations of the abstract method `make_sound()`. This follows the principle of polymorphism, where objects of different classes that share a common interface can be treated uniformly."
   ]
  },
  {
   "cell_type": "code",
   "execution_count": null,
   "id": "6ea8ac25-bb65-4b57-856f-c950fccb11b1",
   "metadata": {},
   "outputs": [],
   "source": []
  }
 ],
 "metadata": {
  "kernelspec": {
   "display_name": "Python 3 (ipykernel)",
   "language": "python",
   "name": "python3"
  },
  "language_info": {
   "codemirror_mode": {
    "name": "ipython",
    "version": 3
   },
   "file_extension": ".py",
   "mimetype": "text/x-python",
   "name": "python",
   "nbconvert_exporter": "python",
   "pygments_lexer": "ipython3",
   "version": "3.10.8"
  }
 },
 "nbformat": 4,
 "nbformat_minor": 5
}
