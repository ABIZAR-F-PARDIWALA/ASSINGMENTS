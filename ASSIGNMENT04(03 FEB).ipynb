{
 "cells": [
  {
   "cell_type": "markdown",
   "id": "18bea0bf-2dc6-4233-820e-b07c11b3b90c",
   "metadata": {},
   "source": [
    "Q-1 Which keyword is used to create a function to return a list of odd numbers in the range of 1 to 25. "
   ]
  },
  {
   "cell_type": "code",
   "execution_count": 11,
   "id": "15865c2b-0cbd-4051-bf43-759be13a53ec",
   "metadata": {},
   "outputs": [],
   "source": [
    "#In Python, you can use the def keyword to create a function. \n",
    "#To return a list of odd numbers in the range of 1 to 25\n",
    "def odd_no():\n",
    "    y =[]\n",
    "    for x in range(1 , 26):\n",
    "        if x % 2 != 0:\n",
    "            y.append(x)\n",
    "    return y\n",
    "    "
   ]
  },
  {
   "cell_type": "code",
   "execution_count": 10,
   "id": "490a4684-71ac-478e-bba8-baf4a07ff2be",
   "metadata": {},
   "outputs": [
    {
     "data": {
      "text/plain": [
       "[1, 3, 5, 7, 9, 11, 13, 15, 17, 19, 21, 23, 25]"
      ]
     },
     "execution_count": 10,
     "metadata": {},
     "output_type": "execute_result"
    }
   ],
   "source": [
    "odd_no()"
   ]
  },
  {
   "cell_type": "markdown",
   "id": "a377b211-e397-48cb-a2b5-8a4ce189ce20",
   "metadata": {},
   "source": [
    "Q-2 Why *args and **kwargs is used in some functions? Create a function each for *args and **kwargs to demonstrate their use."
   ]
  },
  {
   "cell_type": "code",
   "execution_count": 16,
   "id": "26261f3a-122a-41ea-81fd-aaaa721548da",
   "metadata": {},
   "outputs": [],
   "source": [
    "#*args and **kwargs are used in Python functions to handle variable numbers of arguments.\n",
    "\n",
    "#*args allows a function to accept any number of positional arguments. \n",
    "#It collects these arguments into a tuple inside the function.\n",
    "#**kwargs allows a function to accept any number of keyword arguments (arguments passed with keyword=value syntax). \n",
    "#It collects these arguments into a dictionary inside the function.\n",
    "\n",
    "\"\"\"Function for *args\"\"\"\n",
    "def ex_args(*args):\n",
    "    return args\n",
    "\n",
    "\"\"\"Function for **kwargs\"\"\"\n",
    "def ex_kwargs(**kwargs):\n",
    "    return kwargs"
   ]
  },
  {
   "cell_type": "code",
   "execution_count": 13,
   "id": "e0998ff1-28d5-42ee-8f78-0ddefb92d0a7",
   "metadata": {},
   "outputs": [
    {
     "data": {
      "text/plain": [
       "(1, 2, 3, 4, 5, 'abu')"
      ]
     },
     "execution_count": 13,
     "metadata": {},
     "output_type": "execute_result"
    }
   ],
   "source": [
    "ex_args(1,2,3,4,5,\"abu\")"
   ]
  },
  {
   "cell_type": "code",
   "execution_count": 19,
   "id": "c63cd157-e8f3-4703-a882-8841439f97a9",
   "metadata": {},
   "outputs": [
    {
     "data": {
      "text/plain": [
       "{'Name': 'abu', 'sirname': 'pardiwala'}"
      ]
     },
     "execution_count": 19,
     "metadata": {},
     "output_type": "execute_result"
    }
   ],
   "source": [
    "ex_kwargs(Name = \"abu\" , sirname = \"pardiwala\")"
   ]
  },
  {
   "cell_type": "markdown",
   "id": "c9a4f5c9-ed11-49c5-8447-b35b515d3fca",
   "metadata": {},
   "source": [
    "Q-3 What is an iterator in python? Name the method used to intialise the iterator object amd the method  used for iteration. Use these methods to print the first five elements of the given list[2,4.6.8,10,12,14.16,18,20]."
   ]
  },
  {
   "cell_type": "code",
   "execution_count": 22,
   "id": "ce7f8c00-148a-43df-9162-2b2e50c7bc95",
   "metadata": {},
   "outputs": [
    {
     "name": "stdout",
     "output_type": "stream",
     "text": [
      "2\n",
      "4\n",
      "6\n",
      "8\n",
      "10\n"
     ]
    }
   ],
   "source": [
    "#In Python, an iterator is an object that implements the iterator protocol, which consists of the methods `__iter__()` and `__next__()`. \n",
    "#The `__iter__()` method initializes the iterator object, and the `__next__()` method is responsible for returning the next value in the sequence.\n",
    "\n",
    "#Here's an example using the given list to print the first five elements using an iterator:\n",
    "\n",
    "my_list = [2, 4, 6, 8, 10, 12, 14, 16, 18, 20]\n",
    "my_iterator = iter(my_list)\n",
    "for a in range(5):\n",
    "    element = next(my_iterator)\n",
    "    print(element)"
   ]
  },
  {
   "cell_type": "markdown",
   "id": "52a42b80-b356-4f1f-abb6-9be3e0e524b5",
   "metadata": {},
   "source": [
    "Q-4 What is a generator function im python? Why yield keyword is used? Give an example of a generator functlion."
   ]
  },
  {
   "cell_type": "code",
   "execution_count": 24,
   "id": "6060e52b-4808-4075-877a-4d512914f191",
   "metadata": {},
   "outputs": [
    {
     "name": "stdout",
     "output_type": "stream",
     "text": [
      "0\n",
      "1\n",
      "2\n",
      "3\n",
      "4\n",
      "5\n",
      "6\n",
      "7\n",
      "8\n",
      "9\n"
     ]
    }
   ],
   "source": [
    "#A generator function in Python is a special kind of function that allows you to create an iterator using the `yield` keyword. \n",
    "#Unlike regular functions that return a value and are terminated, a generator function can yield multiple values and is paused and resumed during iteration.\n",
    "\n",
    "#The `yield` keyword is used to produce a value from the generator and temporarily suspends the function's state, allowing it to be resumed later, keeping track of the local variables' state.\n",
    "\n",
    "#Here's an example of a generator function:\n",
    "\n",
    "def generate_numbers(n):\n",
    "    for i in range(n):\n",
    "        yield i\n",
    "\n",
    "# Example usage of the generator function\n",
    "my_generator = generate_numbers(10)\n",
    "\n",
    "# Iterating over the generator\n",
    "for n in my_generator:\n",
    "    print(n)"
   ]
  },
  {
   "cell_type": "markdown",
   "id": "71550eca-bd7e-402c-ae8d-de5577910364",
   "metadata": {},
   "source": [
    "Q-5 Create a generator function for a prime numbers less than 1000. Use the next() method to print the first 20 prime numbers."
   ]
  },
  {
   "cell_type": "code",
   "execution_count": 25,
   "id": "d2a00b09-d311-4fbf-8515-034f8c5e76c5",
   "metadata": {},
   "outputs": [
    {
     "name": "stdout",
     "output_type": "stream",
     "text": [
      "[2, 3, 5, 7, 11, 13, 17, 19, 23, 29, 31, 37, 41, 43, 47, 53, 59, 61, 67, 71]\n"
     ]
    }
   ],
   "source": [
    "def is_prime(num):\n",
    "    return num > 1 and all(num % i != 0 for i in range(2, int(num**0.5) + 1))\n",
    "\n",
    "def generate_primes():\n",
    "    num = 2\n",
    "    while True:\n",
    "        if is_prime(num):\n",
    "            yield num\n",
    "        num += 1\n",
    "\n",
    "# Example usage of the generator function with list comprehension\n",
    "prime_generator = generate_primes()\n",
    "\n",
    "# Using next() to print the first 20 prime numbers\n",
    "first_20_primes = [next(prime_generator) for _ in range(20)]\n",
    "print(first_20_primes)\n"
   ]
  },
  {
   "cell_type": "markdown",
   "id": "09cf8144-ad6d-4101-b051-f4466acb054b",
   "metadata": {},
   "source": [
    "Q-6 Write a python program to print the first 10 fabanacci numbers using a while loop."
   ]
  },
  {
   "cell_type": "code",
   "execution_count": 26,
   "id": "1ec404c7-cefd-468f-bffb-c8fc68662805",
   "metadata": {},
   "outputs": [
    {
     "name": "stdout",
     "output_type": "stream",
     "text": [
      "0 1 1 2 3 5 8 13 21 34 "
     ]
    }
   ],
   "source": [
    "# Function to print the first n Fibonacci numbers\n",
    "def print_fibonacci(n):\n",
    "    a, b = 0, 1\n",
    "    count = 0\n",
    "\n",
    "    while count < n:\n",
    "        print(a, end=\" \")\n",
    "        a, b = b, a + b\n",
    "        count += 1\n",
    "\n",
    "print_fibonacci(10)"
   ]
  },
  {
   "cell_type": "markdown",
   "id": "d06ec62f-6d89-46e2-bed0-bfcdacfb7e87",
   "metadata": {},
   "source": [
    "Q-7 Write a List Comprehension to iterate through the given string: 'pwskills'. Expected output: ['p' , 'w' , 's' , 'k' , 'i' , 'l' , 'l' , 's']"
   ]
  },
  {
   "cell_type": "code",
   "execution_count": 30,
   "id": "0e684caf-85a2-430b-8477-7f2bd3131498",
   "metadata": {},
   "outputs": [
    {
     "name": "stdout",
     "output_type": "stream",
     "text": [
      "['p', 'w', 's', 'k', 'i', 'l', 'l', 's']\n"
     ]
    }
   ],
   "source": [
    "a = \"pwskills\"\n",
    "list_comprehension = [i for i in a]\n",
    "print(list_comprehension)"
   ]
  },
  {
   "cell_type": "markdown",
   "id": "d23255ec-4913-464d-baa5-a8c50a84b1db",
   "metadata": {},
   "source": [
    "Q-8 Write a python program to check whether a given number is Palindrome or not using a while loop."
   ]
  },
  {
   "cell_type": "code",
   "execution_count": 31,
   "id": "4b4144d2-5147-45d3-baf8-f72b4bb46934",
   "metadata": {},
   "outputs": [
    {
     "name": "stdin",
     "output_type": "stream",
     "text": [
      "Enter a number:  10\n"
     ]
    },
    {
     "name": "stdout",
     "output_type": "stream",
     "text": [
      "10 is not a palindrome.\n"
     ]
    }
   ],
   "source": [
    "def is_palindrome(number):\n",
    "    original_number = number\n",
    "    reversed_number = 0\n",
    "\n",
    "    while number > 0:\n",
    "        digit = number % 10\n",
    "        reversed_number = reversed_number * 10 + digit\n",
    "        number = number // 10\n",
    "\n",
    "    return original_number == reversed_number\n",
    "\n",
    "# Example usage\n",
    "user_input = int(input(\"Enter a number: \"))\n",
    "\n",
    "if is_palindrome(user_input):\n",
    "    print(f\"{user_input} is a palindrome.\")\n",
    "else:\n",
    "    print(f\"{user_input} is not a palindrome.\")\n"
   ]
  },
  {
   "cell_type": "markdown",
   "id": "5788bd1c-c4fc-4202-9851-f29f2c1c430f",
   "metadata": {},
   "source": [
    "Q-9 Write a code to print odd numbers from 1 to 100 using list comprehension.\n",
    "Note: Use a list comprehension to create a list from 1 to 100 amd use another list comprehension to filter out odd numbers."
   ]
  },
  {
   "cell_type": "code",
   "execution_count": 32,
   "id": "c90706b5-3dd8-46d5-b080-a449feb04a84",
   "metadata": {},
   "outputs": [
    {
     "name": "stdout",
     "output_type": "stream",
     "text": [
      "[1, 3, 5, 7, 9, 11, 13, 15, 17, 19, 21, 23, 25, 27, 29, 31, 33, 35, 37, 39, 41, 43, 45, 47, 49, 51, 53, 55, 57, 59, 61, 63, 65, 67, 69, 71, 73, 75, 77, 79, 81, 83, 85, 87, 89, 91, 93, 95, 97, 99]\n"
     ]
    }
   ],
   "source": [
    "# Using list comprehension to create a list from 1 to 100\n",
    "numbers = [num for num in range(1, 101)]\n",
    "\n",
    "# Using list comprehension to filter out odd numbers\n",
    "odd_numbers = [num for num in numbers if num % 2 != 0]\n",
    "\n",
    "print(odd_numbers)\n"
   ]
  },
  {
   "cell_type": "code",
   "execution_count": null,
   "id": "ef91aa45-f7c9-478f-8444-b90b6131371e",
   "metadata": {},
   "outputs": [],
   "source": []
  }
 ],
 "metadata": {
  "kernelspec": {
   "display_name": "Python 3 (ipykernel)",
   "language": "python",
   "name": "python3"
  },
  "language_info": {
   "codemirror_mode": {
    "name": "ipython",
    "version": 3
   },
   "file_extension": ".py",
   "mimetype": "text/x-python",
   "name": "python",
   "nbconvert_exporter": "python",
   "pygments_lexer": "ipython3",
   "version": "3.10.8"
  }
 },
 "nbformat": 4,
 "nbformat_minor": 5
}
