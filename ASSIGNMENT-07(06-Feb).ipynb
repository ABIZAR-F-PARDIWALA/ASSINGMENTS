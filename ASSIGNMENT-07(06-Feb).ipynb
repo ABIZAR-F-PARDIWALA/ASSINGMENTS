{
 "cells": [
  {
   "cell_type": "markdown",
   "id": "26546f5c-4988-484c-be7d-15e31ca5d521",
   "metadata": {},
   "source": [
    "Q-1 Create a function which will take a list as an argument and return the product of all the numbers after creating a flat list. \n",
    "Use the below-given list as an argument for your function.\n",
    "\n",
    "list1 = [1,2,3,4, [44,55,66,True],False, (34,56,78,89,34), {1,2,3,3,2,1}, {1:34 , \"key2\":[55,67,78,89], 4:(45,22,61,34)}, [56,'data science'],'Machine Learning']\n",
    "\n",
    "Note: you must extract numeric keys and values of the dictionary also."
   ]
  },
  {
   "cell_type": "code",
   "execution_count": 3,
   "id": "81b9bb49-dcc4-4e51-80bd-3584dafb88eb",
   "metadata": {},
   "outputs": [
    {
     "name": "stdout",
     "output_type": "stream",
     "text": [
      "Product of all numbers in the list: 0\n"
     ]
    }
   ],
   "source": [
    "def flatten_list(lst):\n",
    "    \"\"\"\n",
    "    Flatten a nested list.\n",
    "    \n",
    "    Args:\n",
    "    lst (list): The list to be flattened.\n",
    "    \n",
    "    Returns:\n",
    "    list: The flattened list.\n",
    "    \"\"\"\n",
    "    flat_list = []\n",
    "    for item in lst:\n",
    "        if isinstance(item, list) or isinstance(item, tuple):\n",
    "            flat_list.extend(flatten_list(item))\n",
    "        elif isinstance(item, dict):\n",
    "            flat_list.extend(flatten_dict(item))\n",
    "        elif isinstance(item, (int, float)):\n",
    "            flat_list.append(item)\n",
    "    return flat_list\n",
    "\n",
    "def flatten_dict(dct):\n",
    "    \"\"\"\n",
    "    Flatten a nested dictionary.\n",
    "    \n",
    "    Args:\n",
    "    dct (dict): The dictionary to be flattened.\n",
    "    \n",
    "    Returns:\n",
    "    list: The flattened list of numeric values.\n",
    "    \"\"\"\n",
    "    flat_list = []\n",
    "    for key, value in dct.items():\n",
    "        if isinstance(value, (int, float)):\n",
    "            flat_list.append(value)\n",
    "        elif isinstance(value, (list, tuple)):\n",
    "            flat_list.extend(flatten_list(value))\n",
    "        elif isinstance(value, dict):\n",
    "            flat_list.extend(flatten_dict(value))\n",
    "    return flat_list\n",
    "\n",
    "def calculate_product(lst):\n",
    "    \"\"\"\n",
    "    Calculate the product of all numbers in a flattened list.\n",
    "    \n",
    "    Args:\n",
    "    lst (list): The input list.\n",
    "    \n",
    "    Returns:\n",
    "    int or float: The product of all numbers in the list.\n",
    "    \"\"\"\n",
    "    flattened = flatten_list(lst)\n",
    "    \n",
    "    product = 1\n",
    "    for num in flattened:\n",
    "        product *= num\n",
    "    return product\n",
    "\n",
    "# Test the function with the given list\n",
    "list1 = [1,2,3,4, [44,55,66,True],False, (34,56,78,89,34), {1,2,3,3,2,1}, {1:34 , \"key2\":[55,67,78,89], 4:(45,22,61,34)}, [56,'data science'],'Machine Learning']\n",
    "result = calculate_product(list1)\n",
    "print(\"Product of all numbers in the list:\", result)\n",
    "\n"
   ]
  },
  {
   "cell_type": "markdown",
   "id": "81c36470-2d78-4057-ae8d-68b3054f9d0d",
   "metadata": {},
   "source": [
    "Q-2 Write a python program for encrypting a message sent to you by your friend. The logic of encryption should be such that, for a the output should be z. For b, the output should be y. For c, the output should be x respectively. Also, the whitespace should be replaced with a dollar sign. Keep the punctuation marks unchanged.\n",
    "\n",
    "Input Sentence: I want to become a Data Scientist.\n",
    "\n",
    "Encrypt the above input sentence using the program you just created.\n",
    "\n",
    "Note: Convert tahe given input sentence into lowercase before encrypting. The final output should be lowercase."
   ]
  },
  {
   "cell_type": "code",
   "execution_count": 4,
   "id": "24edaae7-f77a-479e-947e-143af35d66e0",
   "metadata": {},
   "outputs": [
    {
     "name": "stdout",
     "output_type": "stream",
     "text": [
      "Encrypted Sentence: r$dzmg$gl$yvxlnv$z$wzgz$hxrvmgrhg.\n"
     ]
    }
   ],
   "source": [
    "def encrypt_message(message):\n",
    "    encrypted_text = ''\n",
    "    for char in message:\n",
    "        if char.isalpha():\n",
    "            encrypted_char = chr(ord('z') - (ord(char.lower()) - ord('a')))\n",
    "            encrypted_text += encrypted_char\n",
    "        elif char.isspace():\n",
    "            encrypted_text += '$'\n",
    "        else:\n",
    "            encrypted_text += char\n",
    "    return encrypted_text\n",
    "\n",
    "# Input sentence\n",
    "input_sentence = \"I want to become a Data Scientist.\"\n",
    "\n",
    "# Convert to lowercase and encrypt the sentence\n",
    "encrypted_sentence = encrypt_message(input_sentence.lower())\n",
    "\n",
    "# Print the encrypted sentence\n",
    "print(\"Encrypted Sentence:\", encrypted_sentence)\n"
   ]
  },
  {
   "cell_type": "code",
   "execution_count": null,
   "id": "abe48396-9fd6-4f4b-9077-9d0c55a957d2",
   "metadata": {},
   "outputs": [],
   "source": []
  }
 ],
 "metadata": {
  "kernelspec": {
   "display_name": "Python 3 (ipykernel)",
   "language": "python",
   "name": "python3"
  },
  "language_info": {
   "codemirror_mode": {
    "name": "ipython",
    "version": 3
   },
   "file_extension": ".py",
   "mimetype": "text/x-python",
   "name": "python",
   "nbconvert_exporter": "python",
   "pygments_lexer": "ipython3",
   "version": "3.10.8"
  }
 },
 "nbformat": 4,
 "nbformat_minor": 5
}
