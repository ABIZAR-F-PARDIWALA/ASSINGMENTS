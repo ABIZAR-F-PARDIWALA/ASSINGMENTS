{
 "cells": [
  {
   "cell_type": "markdown",
   "id": "cccbfc54-055f-49e6-9fef-d8eb6827da7f",
   "metadata": {},
   "source": [
    " Q.1 Who developed Python Programming Language?"
   ]
  },
  {
   "cell_type": "markdown",
   "id": "e9a44f97-3f61-4c1d-89c7-e3fa9cf8b306",
   "metadata": {},
   "source": [
    "Ans Python Programming Language was developed by Guido van Rossum.\n",
    "\n",
    "\n",
    "\n",
    "\n",
    "\n",
    "\n"
   ]
  },
  {
   "cell_type": "markdown",
   "id": "64019e83-470d-477b-b9e7-943849d07c03",
   "metadata": {},
   "source": [
    "Q.2 Which type of Programming does Python support?"
   ]
  },
  {
   "cell_type": "markdown",
   "id": "a5f03abb-41f6-4951-adb4-168d40689146",
   "metadata": {},
   "source": [
    "Ans- Python supports multiple programming paradigms, including procedural, object-oriented, and functional programming\n",
    "Python is also considered a dynamically-typed language, as variable types are determined at runtime."
   ]
  },
  {
   "cell_type": "markdown",
   "id": "dea3d062-b072-4cbd-97f1-6ac8fd5b1b93",
   "metadata": {},
   "source": [
    "Q.3 Is Python case sensitive when dealing with identifiers?"
   ]
  },
  {
   "cell_type": "markdown",
   "id": "49b4dc37-b41b-4775-8709-ce8e0223ee2b",
   "metadata": {},
   "source": [
    "Ans- In Python, case sensitivity matters when working with identifiers. Variables that have various names (variable and Variable, for example) are regarded as separate entities."
   ]
  },
  {
   "cell_type": "markdown",
   "id": "172e4cb6-5792-4e02-9a17-b38d559d57a9",
   "metadata": {},
   "source": [
    "Q.4 What is the correct extension of the Python file?"
   ]
  },
  {
   "cell_type": "markdown",
   "id": "2a62009c-bb37-45d5-ba18-e11fe6d4e90d",
   "metadata": {},
   "source": [
    "Ans- For Python files, the correct extension is \".py\"."
   ]
  },
  {
   "cell_type": "markdown",
   "id": "15146b3e-6283-4721-857b-0ae310bb782d",
   "metadata": {},
   "source": [
    "Q.5 Is Python code compiled or interpreted?"
   ]
  },
  {
   "cell_type": "markdown",
   "id": "0ab24f74-f8a8-4948-b823-07ca13d472e4",
   "metadata": {},
   "source": [
    "Ans- Most people agree that Python is an interpreted language. Nevertheless, before the Python interpreter can run it, the source code must be compiled and converted into bytecode. Python is a \"compiled and interpreted\" language since this compilation to bytecode takes place at runtime."
   ]
  },
  {
   "cell_type": "markdown",
   "id": "4a5e991d-79a2-4836-be50-467a5cd4b015",
   "metadata": {},
   "source": [
    "Q.6 Name a few blocks of code used to dwfine in Python language?"
   ]
  },
  {
   "cell_type": "markdown",
   "id": "83e99b8c-eafb-42c8-9ec0-ed381aa2884d",
   "metadata": {},
   "source": [
    "Ans- Python uses indentation to define code blocks. Here are a few basic examples:\n",
    "    1. Function 2.Conditional (if statement) 3.Loop (for loop) 4.Class\n",
    "    5. Exception Handling (try-except)"
   ]
  },
  {
   "cell_type": "markdown",
   "id": "a53ff48f-d212-4a20-9649-a4fccb3086d9",
   "metadata": {},
   "source": [
    "Q.7 State a character used to give single-line comments in Python?"
   ]
  },
  {
   "cell_type": "markdown",
   "id": "e63dd598-3fba-4fad-9937-8dff32052760",
   "metadata": {},
   "source": [
    "Ans- In Python, single-line comments are indicated using the character '#'. The Python interpreter treats any text that appears on the same line after the '#' as a remark and ignores it. "
   ]
  },
  {
   "cell_type": "markdown",
   "id": "443bd8a0-c39d-4814-8d13-9676153cca67",
   "metadata": {},
   "source": [
    "Q.8 Mention functions which can help us to find the version of python that we are currently working on?"
   ]
  },
  {
   "cell_type": "markdown",
   "id": "94a5eea5-11c8-41f3-ae74-a8ebd36d31a5",
   "metadata": {},
   "source": [
    "Ans- To find the version of Python you are currently working on, you can use the following functions:\n",
    "    1. sys module: 2. platform module: 3.sysconfig module:\n",
    "        These functions will provide information about the Python version you are using."
   ]
  },
  {
   "cell_type": "markdown",
   "id": "1e0e24cb-14d0-4914-823e-4d78f927d1fe",
   "metadata": {},
   "source": [
    "Q.9 Python supports the creation of anonymous functions at runtime, using a construct called ____________"
   ]
  },
  {
   "cell_type": "markdown",
   "id": "2cd803aa-0255-435d-886c-5ae1a8820316",
   "metadata": {},
   "source": [
    "Ans- Python supports the creation of anonymous functions at runtime using a construct called \"lambda\" functions."
   ]
  },
  {
   "cell_type": "markdown",
   "id": "ba880ff9-2f29-4e6e-b7ae-02ffcd2d9bd9",
   "metadata": {},
   "source": [
    "Q.10 What does pip stand for python?"
   ]
  },
  {
   "cell_type": "markdown",
   "id": "f5c7df92-0a18-46d8-887b-d859cd730bcc",
   "metadata": {},
   "source": [
    "Ans- \"Pip\" in Python stands for \"Pip Installs Packages.\" It is a package management system that is used to install and manage Python libraries and packages."
   ]
  },
  {
   "cell_type": "markdown",
   "id": "597ff801-85b2-4a9a-acd8-a1d0c7ae1bbf",
   "metadata": {},
   "source": [
    "Q.11 Mention a few built-in-functions in python?"
   ]
  },
  {
   "cell_type": "markdown",
   "id": "4e283e9c-4b00-41c2-afaa-6741da179ad5",
   "metadata": {},
   "source": [
    "Ans- Here are a few built-in functions in Python:\n",
    "\n",
    "print()\n",
    "len()\n",
    "type()\n",
    "input()\n",
    "range()\n",
    "sum()\n",
    "max(), min()\n",
    "sorted()\n",
    "abs()\n",
    "str(), int(), float()"
   ]
  },
  {
   "cell_type": "markdown",
   "id": "64189a9f-c9ea-49b6-b160-207b5e09836a",
   "metadata": {},
   "source": [
    "Q.12 What is the maximum possible length of an identifier in Python?"
   ]
  },
  {
   "cell_type": "markdown",
   "id": "f852f556-79fe-40a4-8459-3a6abf7bf51b",
   "metadata": {},
   "source": [
    "Ans- Python does not specify a maximum length for identifiers. It's recommended to keep them reasonably short and adhere to code readability conventions. PEP 8 suggests limiting lines to 79 characters, including identifier names."
   ]
  },
  {
   "cell_type": "markdown",
   "id": "ee0000a3-101b-4607-a9b0-e6986b6a289d",
   "metadata": {},
   "source": [
    "Q.13 What are the benefits of using Python?"
   ]
  },
  {
   "cell_type": "markdown",
   "id": "e77138f0-9083-4a9f-9352-a750a7cbd32c",
   "metadata": {},
   "source": [
    "Ans- Here are some key benefits of using Python:\n",
    "\n",
    "1. **Readability:** Clear and readable syntax.\n",
    "2. **Extensive Library:** Rich standard library for various tasks.\n",
    "3. **Community Support:** Large and active developer community.\n",
    "4. **Diverse Ecosystem:** Abundance of libraries and frameworks.\n",
    "5. **Compatibility:** Easily integrates with other languages.\n",
    "6. **Cross-Platform:** Runs on different operating systems.\n",
    "7. **Productivity:** Promotes rapid development.\n",
    "8. **Innovation:** Community-driven updates and improvements.\n",
    "9. **Versatility:** Suitable for diverse applications.\n",
    "10. **Educational Value:** Widely used in programming education."
   ]
  },
  {
   "cell_type": "markdown",
   "id": "c4d3838c-0a14-46f3-913a-97baad8df53d",
   "metadata": {},
   "source": [
    "Q-14 How is memory managed in Python?"
   ]
  },
  {
   "cell_type": "markdown",
   "id": "6051a7da-498f-4e70-a6fa-63faf70a53a5",
   "metadata": {},
   "source": [
    "Ans- In Python, memory management is handled automatically by the Python memory manager. Key aspects include reference counting, garbage collection, automatic memory allocation and deallocation, memory pools for small objects, and the use of the `gc` module for manual garbage collection. Developers typically don't need to worry about memory management details, as it's taken care of by the interpreter."
   ]
  },
  {
   "cell_type": "markdown",
   "id": "3011de6c-d23c-4fe1-9b46-4aad02afe458",
   "metadata": {},
   "source": [
    "Q-15 How to install Python on Windows and set path variables?"
   ]
  },
  {
   "cell_type": "markdown",
   "id": "b1dd2a1c-1e0a-46b7-8122-2e0e8fd84a6d",
   "metadata": {},
   "source": [
    "Ans- To install Python on Windows and set path variables:\n",
    "\n",
    "1. Download Python from the official website.\n",
    "2. Run the installer, selecting the option to add Python to the PATH.\n",
    "3. Verify the installation by checking the Python version in the command prompt.\n",
    "4. Set environment variables by adding the Python installation directory to the PATH.\n",
    "5. Open a new command prompt to confirm that Python is accessible.\n",
    "\n",
    "You are now ready to use Python on your Windows machine."
   ]
  },
  {
   "cell_type": "markdown",
   "id": "44ed5aa0-5730-4782-a910-5a3fc120923d",
   "metadata": {},
   "source": [
    "Q-16 Is indentation required in python?"
   ]
  },
  {
   "cell_type": "markdown",
   "id": "920903b8-2ef7-45b8-bd54-134ed408dadb",
   "metadata": {},
   "source": [
    "Ans- Yes, indentation is required in Python. It is a fundamental part of the language syntax, indicating the structure and scope of the code."
   ]
  },
  {
   "cell_type": "code",
   "execution_count": null,
   "id": "ec3400c4-e8d2-4ec0-9dc3-72fba1800e58",
   "metadata": {},
   "outputs": [],
   "source": []
  }
 ],
 "metadata": {
  "kernelspec": {
   "display_name": "Python 3 (ipykernel)",
   "language": "python",
   "name": "python3"
  },
  "language_info": {
   "codemirror_mode": {
    "name": "ipython",
    "version": 3
   },
   "file_extension": ".py",
   "mimetype": "text/x-python",
   "name": "python",
   "nbconvert_exporter": "python",
   "pygments_lexer": "ipython3",
   "version": "3.10.8"
  }
 },
 "nbformat": 4,
 "nbformat_minor": 5
}
