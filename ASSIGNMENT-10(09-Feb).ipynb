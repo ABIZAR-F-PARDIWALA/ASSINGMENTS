{
 "cells": [
  {
   "cell_type": "markdown",
   "id": "86a1286b-384b-48b2-b940-6788cb6cc9a2",
   "metadata": {},
   "source": [
    "Q-1. Create a vehicle class with an init method having instance variables as name_of_vehicle, max_speed and average_of_vehicle."
   ]
  },
  {
   "cell_type": "code",
   "execution_count": 1,
   "id": "325aadc9-d904-4a7e-a109-a0d3bb104fa8",
   "metadata": {},
   "outputs": [
    {
     "name": "stdout",
     "output_type": "stream",
     "text": [
      "Toyota Camry\n",
      "180\n",
      "15\n"
     ]
    }
   ],
   "source": [
    "class Vehicle:\n",
    "    def __init__(self, name, max_speed, average_of_vehicle):\n",
    "        self.name, self.max_speed, self.avg = name, max_speed, average_of_vehicle\n",
    "\n",
    "car = Vehicle(\"Toyota Camry\", 180, 15)\n",
    "print(car.name)          # Output: Toyota Camry\n",
    "print(car.max_speed)     # Output: 180\n",
    "print(car.avg)           # Output: 15\n"
   ]
  },
  {
   "cell_type": "markdown",
   "id": "045494ae-f814-424b-84d2-614b5aae7b99",
   "metadata": {},
   "source": [
    "Q-2. Create a child class car from the vehicle class created in Que 1, which will inherit the vehicle class. Create a method named seating_capacity ehich takes capacity as an argument amd returns the name of the vehicle and its seating capacity."
   ]
  },
  {
   "cell_type": "code",
   "execution_count": 4,
   "id": "73ecddf7-5d7b-43f3-9ba0-c7caddc6d586",
   "metadata": {},
   "outputs": [
    {
     "name": "stdout",
     "output_type": "stream",
     "text": [
      "Toyota Camry has a seating capacity of 5.\n"
     ]
    }
   ],
   "source": [
    "class Car(Vehicle):\n",
    "    def seating_capacity(self, capacity):\n",
    "        return f\"{self.name} has a seating capacity of {capacity}.\"\n",
    "\n",
    "# Example usage:\n",
    "car = Car(\"Toyota Camry\", 180, 15)\n",
    "print(car.seating_capacity(5))  # Output: Toyota Camry has a seating capacity of 5.\n"
   ]
  },
  {
   "cell_type": "markdown",
   "id": "76f8270e-c11a-4420-a6df-4427cdf2ef17",
   "metadata": {},
   "source": [
    "Q-3. What is multiple inheritance? Write a python code to demonstrate multiple inheritance."
   ]
  },
  {
   "cell_type": "code",
   "execution_count": 9,
   "id": "5de9020e-824b-4f98-b1fa-9b504f1e3837",
   "metadata": {},
   "outputs": [
    {
     "name": "stdout",
     "output_type": "stream",
     "text": [
      "Engine started\n",
      "Electric motor started\n",
      "Hybrid car started\n"
     ]
    }
   ],
   "source": [
    "#Multiple inheritance is a feature in object-oriented programming languages where a class can inherit attributes and methods from more than one parent class. In Python, a class can inherit from multiple parent classes, and it can access attributes and methods from all of its parent classes.\n",
    "\n",
    "#Here's a Python code example demonstrating multiple inheritance:\n",
    "\n",
    "\n",
    "# Parent class 1\n",
    "class Engine:\n",
    "    def start_engine(self):\n",
    "        print(\"Engine started\")\n",
    "\n",
    "# Parent class 2\n",
    "class Electric:\n",
    "    def start_electric_motor(self):\n",
    "        print(\"Electric motor started\")\n",
    "\n",
    "# Child class inheriting from both Engine and Electric classes\n",
    "class HybridCar(Engine, Electric):\n",
    "    def start(self):\n",
    "        # Accessing methods from both parent classes\n",
    "        self.start_engine()\n",
    "        self.start_electric_motor()\n",
    "        print(\"Hybrid car started\")\n",
    "\n",
    "# Create an instance of HybridCar\n",
    "hybrid_car = HybridCar()\n",
    "\n",
    "# Call the start method of HybridCar\n",
    "hybrid_car.start()\n",
    "\n",
    "#In this example, `HybridCar` is a child class that inherits from both `Engine` and `Electric` classes. It can access methods `start_engine()` from the `Engine` class and `start_electric_motor()` from the `Electric` class. When calling the `start()` method of `HybridCar`, it calls both parent methods and prints \"Hybrid car started\"."
   ]
  },
  {
   "cell_type": "markdown",
   "id": "01f7e37c-edf8-4240-9833-e1ce2cbea289",
   "metadata": {},
   "source": [
    "Q-4. What are getter and setter in python? Create a class and a getter and settet method in this class."
   ]
  },
  {
   "cell_type": "code",
   "execution_count": 10,
   "id": "7618c47e-a953-47ab-9f7b-b3e7d2ed97d5",
   "metadata": {},
   "outputs": [
    {
     "name": "stdout",
     "output_type": "stream",
     "text": [
      "Brand: Toyota\n",
      "Model: Camry\n",
      "Updated Brand: Honda\n",
      "Updated Model: Accord\n"
     ]
    }
   ],
   "source": [
    "#In Python, getters and setters are methods used to control access to attributes of a class. They allow you to enforce encapsulation by providing a way to retrieve (get) and update (set) attribute values, usually with additional logic or validation.\n",
    "\n",
    "#Here's a simple example demonstrating a class with a getter and a setter method:\n",
    "\n",
    "class Car:\n",
    "    def __init__(self, brand, model):\n",
    "        self._brand = brand\n",
    "        self._model = model\n",
    "\n",
    "    # Getter method for brand\n",
    "    def get_brand(self):\n",
    "        return self._brand\n",
    "\n",
    "    # Setter method for brand\n",
    "    def set_brand(self, new_brand):\n",
    "        self._brand = new_brand\n",
    "\n",
    "    # Getter method for model\n",
    "    def get_model(self):\n",
    "        return self._model\n",
    "\n",
    "    # Setter method for model\n",
    "    def set_model(self, new_model):\n",
    "        self._model = new_model\n",
    "\n",
    "# Creating an instance of the Car class\n",
    "car = Car(\"Toyota\", \"Camry\")\n",
    "\n",
    "# Getting the brand and model using getter methods\n",
    "print(\"Brand:\", car.get_brand())  # Output: Brand: Toyota\n",
    "print(\"Model:\", car.get_model())  # Output: Model: Camry\n",
    "\n",
    "# Setting new values using setter methods\n",
    "car.set_brand(\"Honda\")\n",
    "car.set_model(\"Accord\")\n",
    "\n",
    "# Getting the updated values\n",
    "print(\"Updated Brand:\", car.get_brand())  # Output: Updated Brand: Honda\n",
    "print(\"Updated Model:\", car.get_model())  # Output: Updated Model: Accord\n",
    "\n",
    "#In this example, the `Car` class has getter methods (`get_brand()` and `get_model()`) to retrieve the values of the `brand` and `model` attributes respectively, and setter methods (`set_brand()` and `set_model()`) to update these attributes. By using getter and setter methods, you can control access to the attributes and perform any necessary validation or additional logic."
   ]
  },
  {
   "cell_type": "markdown",
   "id": "74e0c8f9-7e3d-4609-998b-6dc5f7f6961d",
   "metadata": {},
   "source": [
    "Q-5. What is method overriding in python? Write a python code to demonstrate method overriding."
   ]
  },
  {
   "cell_type": "code",
   "execution_count": 11,
   "id": "f5e4fe34-6c5e-40ea-a7bb-f5e0e40ecfb1",
   "metadata": {},
   "outputs": [
    {
     "name": "stdout",
     "output_type": "stream",
     "text": [
      "Dog barks\n",
      "Cat meows\n"
     ]
    }
   ],
   "source": [
    "#Method overriding in Python occurs when a subclass provides a specific implementation of a method that is already defined in its superclass. This allows a subclass to customize or extend the behavior of the superclass method without changing its name.\n",
    "\n",
    "#Here's a Python code example demonstrating method overriding:\n",
    "\n",
    "\n",
    "class Animal:\n",
    "    def make_sound(self):\n",
    "        print(\"Animal makes a generic sound\")\n",
    "\n",
    "class Dog(Animal):\n",
    "    def make_sound(self):\n",
    "        print(\"Dog barks\")\n",
    "\n",
    "class Cat(Animal):\n",
    "    def make_sound(self):\n",
    "        print(\"Cat meows\")\n",
    "\n",
    "# Creating instances of Dog and Cat\n",
    "dog = Dog()\n",
    "cat = Cat()\n",
    "\n",
    "# Calling the make_sound method for Dog and Cat\n",
    "dog.make_sound()  # Output: Dog barks\n",
    "cat.make_sound()  # Output: Cat meows\n",
    "\n",
    "\n",
    "#In this example, we have a superclass `Animal` with a method `make_sound()`, which prints a generic sound. The `Dog` and `Cat` classes are subclasses of `Animal` that override the `make_sound()` method with their specific implementations (`barks` for `Dog` and `meows` for `Cat`). When we call `make_sound()` on instances of `Dog` and `Cat`, the overridden methods in the respective subclasses are executed."
   ]
  },
  {
   "cell_type": "code",
   "execution_count": null,
   "id": "fb9ed203-8ce9-4837-86dd-fd9bca45e7e5",
   "metadata": {},
   "outputs": [],
   "source": []
  }
 ],
 "metadata": {
  "kernelspec": {
   "display_name": "Python 3 (ipykernel)",
   "language": "python",
   "name": "python3"
  },
  "language_info": {
   "codemirror_mode": {
    "name": "ipython",
    "version": 3
   },
   "file_extension": ".py",
   "mimetype": "text/x-python",
   "name": "python",
   "nbconvert_exporter": "python",
   "pygments_lexer": "ipython3",
   "version": "3.10.8"
  }
 },
 "nbformat": 4,
 "nbformat_minor": 5
}
