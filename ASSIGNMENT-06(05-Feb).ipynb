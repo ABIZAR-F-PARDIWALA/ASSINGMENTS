{
 "cells": [
  {
   "cell_type": "markdown",
   "id": "a579b9b4-9655-4603-a1a8-38d0f46533c1",
   "metadata": {},
   "source": [
    "Q-1 Explain Class and Object with respect to Object-Oriented Programming. Give a suitable example."
   ]
  },
  {
   "cell_type": "code",
   "execution_count": null,
   "id": "60bf3aa9-d63d-46d9-9aa1-0d422a045119",
   "metadata": {},
   "outputs": [],
   "source": [
    "\"\"\"In Object-Oriented Programming (OOP), a class and an object are fundamental concepts that help organize and structure code. \n",
    "OOP is a programming paradigm that models real-world entities as objects, which have both data (attributes) and behaviors (methods) associated with them.\n",
    "\n",
    "Class:\n",
    "A class is a blueprint or a template for creating objects. \n",
    "It defines a set of attributes and methods that objects of the class will have. \n",
    "Think of a class as a generalized description of a category of objects. \n",
    "It encapsulates the common properties and behaviors that its objects share. \n",
    "Classes provide a way to structure code by promoting modularity, encapsulation, and reusability.\n",
    "\n",
    "Object:\n",
    "An object is an instance of a class. \n",
    "It is a concrete representation of the class, with its own set of specific values for attributes. \n",
    "Objects are created from classes and can interact with each other through their methods. \n",
    "Each object has its own state, which is determined by the values of its attributes at a given moment. \n",
    "Objects provide a way to work with the specific, individual instances of a class.\"\"\"\n",
    "\n",
    "# Define a basic class named 'Person'\n",
    "class Person:\n",
    "    # Constructor method to initialize object attributes\n",
    "    def __init__(self, name, age):\n",
    "        # Instance attributes\n",
    "        self.name = name\n",
    "        self.age = age\n",
    "\n",
    "# Create an object (instance) of the Person class\n",
    "person = Person(\"Alice\", 25)\n",
    "\n",
    "# Accessing object attributes\n",
    "print(f\"{person.name} is {person.age} years old.\")"
   ]
  },
  {
   "cell_type": "markdown",
   "id": "409e8a6e-6023-450b-a42e-61f1a7993ebb",
   "metadata": {},
   "source": [
    "Q-2 Name the four pillars of OOPs."
   ]
  },
  {
   "cell_type": "markdown",
   "id": "95694ccb-e166-4913-a2b0-479d45baf379",
   "metadata": {},
   "source": [
    "The Four Pillars of OOPs\n",
    "1. Encapsulation\n",
    "2. Inheritance\n",
    "3. Abstraction\n",
    "4. Polymorphism"
   ]
  },
  {
   "cell_type": "markdown",
   "id": "dd521470-de32-4b0c-aab3-a7d2cf150236",
   "metadata": {},
   "source": [
    "Q-3 Explain why the __init__() function is used. Give a suitable example."
   ]
  },
  {
   "cell_type": "code",
   "execution_count": 4,
   "id": "b33c653b-ab0f-46e7-a259-1c9c207dbc28",
   "metadata": {},
   "outputs": [
    {
     "name": "stdout",
     "output_type": "stream",
     "text": [
      "Apple is Red.\n"
     ]
    }
   ],
   "source": [
    "\"\"\"The __init__() function in Python is a special method used as a constructor for a class. \n",
    "It gets called automatically when an object is created from the class. \n",
    "The primary purpose of __init__() is to initialize the attributes (properties) of the object with values provided during the object's creation. \n",
    "This method is crucial for setting up the initial state of the object.\"\"\"\n",
    "\n",
    "class Fruit:\n",
    "    def __init__(self, name, color):\n",
    "        self.name = name\n",
    "        self.color = color\n",
    "\n",
    "# Creating an object of the Fruit class with specific attribute values\n",
    "apple = Fruit(\"Apple\", \"Red\")\n",
    "\n",
    "# Accessing object attributes\n",
    "print(f\"{apple.name} is {apple.color}.\")"
   ]
  },
  {
   "cell_type": "markdown",
   "id": "7617e357-eaf7-4027-9cb1-ed371aeb34e9",
   "metadata": {},
   "source": [
    "Q-4 Why self is used in OOPs?"
   ]
  },
  {
   "cell_type": "markdown",
   "id": "64ee2a82-9719-40c7-b642-2026c1a7a174",
   "metadata": {},
   "source": [
    "In Object-Oriented Programming (OOP), self is a convention used to represent the instance of the class. It is the first parameter in the method definitions within a class and refers to the instance of the class itself. In Python, the use of self is essential for distinguishing between instance variables and local variables within the scope of a class.\n",
    "\n",
    "Here are a couple of key reasons why self is used in OOP:\n",
    "\n",
    "Instance Reference:\n",
    "\n",
    "self is a reference to the instance of the class. It allows you to access and modify the attributes (variables) and methods (functions) of the object within the class.\n",
    "Without self, there would be ambiguity in the scope, and the interpreter wouldn't know whether you're referring to a local variable or an instance variable.\n",
    "\n",
    "Method Invocation:\n",
    "\n",
    "When you call a method on an object, self is automatically passed as the first parameter to that method. This allows the method to operate on the specific instance of the class.\n",
    "It enables the method to access and manipulate the attributes of the object to which it belongs."
   ]
  },
  {
   "cell_type": "markdown",
   "id": "6024bcde-970f-4cf2-af72-6bba99167695",
   "metadata": {},
   "source": [
    "Q-5 What is inheritance ? Give an example for each type of inheritance"
   ]
  },
  {
   "cell_type": "code",
   "execution_count": 7,
   "id": "399279f4-f76f-4aec-b899-745006efa8d6",
   "metadata": {},
   "outputs": [
    {
     "name": "stdout",
     "output_type": "stream",
     "text": [
      "Animal speaks\n",
      "Dog barks\n",
      "Can fly\n",
      "Can swim\n",
      "Engine started\n",
      "Car is driving\n",
      "Sports car is accelerating\n"
     ]
    }
   ],
   "source": [
    "\"\"\"Inheritance is a fundamental concept in Object-Oriented Programming (OOP) that allows a new class (subclass or derived class) to inherit attributes and behaviors from an existing class (superclass or base class). \n",
    "This promotes code reuse, extensibility, and the creation of a hierarchy of classes.\n",
    "\n",
    "There are different types of inheritance:\n",
    "\n",
    "1. Single Inheritance:\n",
    "   - In single inheritance, a class inherits from only one superclass.\n",
    "   - Example:\"\"\"\n",
    "\n",
    "\n",
    "class Animal:\n",
    "    def speak(self):\n",
    "        print(\"Animal speaks\")\n",
    "\n",
    "class Dog(Animal):\n",
    "    def bark(self):\n",
    "        print(\"Dog barks\")\n",
    "\n",
    "# Creating an object of the Dog class\n",
    "my_dog = Dog()\n",
    "\n",
    "# Inheriting method from the Animal class\n",
    "my_dog.speak()  # Output: Animal speaks\n",
    "my_dog.bark()   # Output: Dog barks\n",
    "\n",
    "\n",
    "\"\"\"2. Multiple Inheritance:\n",
    "   - In multiple inheritance, a class inherits from more than one superclass.\n",
    "   - Example:\"\"\"\n",
    "\n",
    "class Flyable:\n",
    "    def fly(self):\n",
    "        print(\"Can fly\")\n",
    "\n",
    "class Swimmable:\n",
    "    def swim(self):\n",
    "        print(\"Can swim\")\n",
    "\n",
    "class Amphibian(Flyable, Swimmable):\n",
    "    pass\n",
    "\n",
    "# Creating an object of the Amphibian class\n",
    "frog = Amphibian()\n",
    "\n",
    "# Inheriting methods from multiple classes\n",
    "frog.fly()   # Output: Can fly\n",
    "frog.swim()  # Output: Can swim\n",
    "\n",
    "\"\"\"3. Multilevel Inheritance:\n",
    "   - In multilevel inheritance, a class inherits from another class, and then a new class inherits from that derived class.\n",
    "   - Example:\"\"\"\n",
    "\n",
    "class Vehicle:\n",
    "    def start_engine(self):\n",
    "        print(\"Engine started\")\n",
    "\n",
    "class Car(Vehicle):\n",
    "    def drive(self):\n",
    "        print(\"Car is driving\")\n",
    "\n",
    "class SportsCar(Car):\n",
    "    def accelerate(self):\n",
    "        print(\"Sports car is accelerating\")\n",
    "\n",
    "# Creating an object of the SportsCar class\n",
    "my_sports_car = SportsCar()\n",
    "\n",
    "# Inheriting methods from multiple levels\n",
    "my_sports_car.start_engine()  # Output: Engine started\n",
    "my_sports_car.drive()         # Output: Car is driving\n",
    "my_sports_car.accelerate()    # Output: Sports car is accelerating\n",
    "\n",
    "\n",
    "#These examples illustrate different types of inheritance and how subclasses can inherit and extend the functionalities of their parent classes."
   ]
  },
  {
   "cell_type": "code",
   "execution_count": null,
   "id": "ae83ae4c-e0f2-4d12-9f1b-71d11fa1bafa",
   "metadata": {},
   "outputs": [],
   "source": []
  }
 ],
 "metadata": {
  "kernelspec": {
   "display_name": "Python 3 (ipykernel)",
   "language": "python",
   "name": "python3"
  },
  "language_info": {
   "codemirror_mode": {
    "name": "ipython",
    "version": 3
   },
   "file_extension": ".py",
   "mimetype": "text/x-python",
   "name": "python",
   "nbconvert_exporter": "python",
   "pygments_lexer": "ipython3",
   "version": "3.10.8"
  }
 },
 "nbformat": 4,
 "nbformat_minor": 5
}
