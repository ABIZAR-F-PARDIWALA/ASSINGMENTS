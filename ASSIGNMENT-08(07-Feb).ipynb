{
 "cells": [
  {
   "cell_type": "markdown",
   "id": "a805cc95-bc13-4263-bca5-2c86f4066a7d",
   "metadata": {},
   "source": [
    "Q-1 You are writing code for a company. The requirement of the company is that you create a python function that will check whether the password entered by the user is correct or not. The function should take the password as input and return the string \"Valid Password\" if the entered password follows the below-given password guidelines else it should return \"Invalid Password\".\n",
    "\n",
    "Note:\n",
    "1. The Password should contain at least two uppercase letters and at least two lowercase letters.\n",
    "2. The Password should contain at least a number and three special cheracters.\n",
    "3. The length of the password should be 10 characters long."
   ]
  },
  {
   "cell_type": "code",
   "execution_count": 26,
   "id": "4e450924-2a06-4a0d-958f-fb1e26b847bc",
   "metadata": {},
   "outputs": [
    {
     "name": "stdin",
     "output_type": "stream",
     "text": [
      "Enter Your Password-:  AApp123!@#\n"
     ]
    },
    {
     "name": "stdout",
     "output_type": "stream",
     "text": [
      "Valid Password\n"
     ]
    }
   ],
   "source": [
    "def check_password(password):\n",
    "    # Rule 1: Check if password has at least two uppercase and two lowercase letters\n",
    "    if sum(1 for char in password if char.isupper()) < 2 or sum(1 for char in password if char.islower()) < 2:\n",
    "        return \"Invalid Password: Password should have at least two uppercase and two lowercase letters.\"\n",
    "    \n",
    "    # Rule 2: Check if password has at least one number and three special characters\n",
    "    if sum(1 for char in password if char.isdigit()) < 1 or sum(1 for char in password if char in \"!@#$%^&*()_+{}|:\\\"<>?`~\\-=[\\];\\',./\") < 3:\n",
    "        return \"Invalid Password: Password should have at least one number and three special characters.\"\n",
    "    \n",
    "    # Rule 3: Check if password length is 10 characters\n",
    "    if len(password) != 10:\n",
    "        return \"Invalid Password: Password length should be 10 characters.\"\n",
    "    \n",
    "    # If all rules are satisfied, return \"Valid Password\"\n",
    "    return \"Valid Password\"\n",
    "\n",
    "# Test the function\n",
    "password = input(\"Enter Your Password-: \")\n",
    "result = check_password(password)\n",
    "print(result)"
   ]
  },
  {
   "cell_type": "markdown",
   "id": "1b5f2eb0-98a5-4e5d-88d3-18328945dcd0",
   "metadata": {},
   "source": [
    "Q-2 Solve the below-given questions using at least one of the following:\n",
    "1. Lambda function \n",
    "2. Filter function\n",
    "3. Map functionn \n",
    "4. List Comprehension\n",
    "\n",
    ". Check if the string starts wilth a particular letter.\n",
    ". Check if the string is numeric.\n",
    ". Sort a list of tuples having fruit names and their quantity. [(\"mango\",99),(\"orange\",80),(\"grapes\",1000)]\n",
    ". Find the squares of numbers from 1 to 10.\n",
    ". Find the cube root of numbers from 1 to 10.\n",
    ". Check if a given number is even.\n",
    ". Filter odd numbers from the given list. \n",
    "   [1,2,3,4,5,6,7,8,9,10]\n",
    ". Sort a list of integers into positive and negative integers lists.\n",
    "   [1,2,3,4,5,6,-1,-2,-3,-4,-5,0]"
   ]
  },
  {
   "cell_type": "code",
   "execution_count": 52,
   "id": "01dc75ad-f841-41eb-886e-244ea42e606d",
   "metadata": {},
   "outputs": [
    {
     "name": "stdin",
     "output_type": "stream",
     "text": [
      "Enter a string:  APPLE\n",
      "Enter a letter:  A\n"
     ]
    },
    {
     "name": "stdout",
     "output_type": "stream",
     "text": [
      "Does the string start with the letter? True\n"
     ]
    }
   ],
   "source": [
    "#. Check if the string starts wilth a particular letter.\n",
    "# Define a lambda function to check if a string starts with a particular letter\n",
    "check_starts_with_letter = lambda string, letter: string[0] == letter\n",
    "\n",
    "# Taking user input\n",
    "user_string = input(\"Enter a string: \")\n",
    "user_letter = input(\"Enter a letter: \")\n",
    "\n",
    "# Checking if the input string starts with the specified letter using list comprehension\n",
    "result = check_starts_with_letter(user_string, user_letter)\n",
    "\n",
    "# Printing the result\n",
    "print(\"Does the string start with the letter?\", result)\n"
   ]
  },
  {
   "cell_type": "code",
   "execution_count": 48,
   "id": "accf78d6-796f-4f7f-acbd-0cbec6f54438",
   "metadata": {},
   "outputs": [
    {
     "name": "stdin",
     "output_type": "stream",
     "text": [
      "Enter a string:  ABU\n"
     ]
    },
    {
     "name": "stdout",
     "output_type": "stream",
     "text": [
      "Input is: String\n"
     ]
    }
   ],
   "source": [
    "#. Check if the string is numeric. USING LAMBDA FUNCTION\n",
    "check_numeric = lambda string: \"Numeric\" if string.isnumeric() else \"String\"\n",
    "\n",
    "# Taking user input\n",
    "user_input = input(\"Enter a string: \")\n",
    "\n",
    "# Checking if the input is numeric or a string\n",
    "result = check_numeric(user_input)\n",
    "\n",
    "# Printing the result\n",
    "print(\"Input is:\", result)"
   ]
  },
  {
   "cell_type": "code",
   "execution_count": 49,
   "id": "09b1c47d-2908-4a2b-8287-34aebc65bb3d",
   "metadata": {},
   "outputs": [
    {
     "name": "stdin",
     "output_type": "stream",
     "text": [
      "Enter a string:  123\n"
     ]
    },
    {
     "name": "stdout",
     "output_type": "stream",
     "text": [
      "Input is: ['Numeric', 'Numeric', 'Numeric']\n"
     ]
    }
   ],
   "source": [
    "#. Check if the string is numeric. USING LIST COMPREHENSION\n",
    "# Taking user input\n",
    "user_input = input(\"Enter a string: \")\n",
    "\n",
    "# Using list comprehension to check if each character is numeric or a string\n",
    "result = [\"Numeric\" if char.isnumeric() else \"String\" for char in user_input]\n",
    "\n",
    "# Printing the result\n",
    "print(\"Input is:\", result)"
   ]
  },
  {
   "cell_type": "code",
   "execution_count": 55,
   "id": "887b69c5-7578-4925-9ea8-c4738a6d51e4",
   "metadata": {},
   "outputs": [
    {
     "name": "stdout",
     "output_type": "stream",
     "text": [
      "[('orange', 80), ('mango', 99), ('grapes', 1000)]\n"
     ]
    }
   ],
   "source": [
    "#. Sort a list of tuples having fruit names and their quantity. [(\"mango\",99),(\"orange\",80),(\"grapes\",1000)]\n",
    "\n",
    "fruits = [(\"mango\", 99), (\"orange\", 80), (\"grapes\", 1000)]\n",
    "sorted_fruits = sorted(fruits, key=lambda x: (x[1], x[0]))\n",
    "print(sorted_fruits)"
   ]
  },
  {
   "cell_type": "code",
   "execution_count": 56,
   "id": "4ad9f462-c914-4899-8bd6-8504eeffdc1f",
   "metadata": {},
   "outputs": [
    {
     "name": "stdout",
     "output_type": "stream",
     "text": [
      "[1, 4, 9, 16, 25, 36, 49, 64, 81, 100]\n"
     ]
    }
   ],
   "source": [
    "#. Find the squares of numbers from 1 to 10.\n",
    "squares = [x ** 2 for x in range(1, 11)]\n",
    "print(squares)"
   ]
  },
  {
   "cell_type": "code",
   "execution_count": 57,
   "id": "3ea04a78-afa8-47d5-8d5a-0e7b900a9562",
   "metadata": {},
   "outputs": [
    {
     "name": "stdout",
     "output_type": "stream",
     "text": [
      "[1, 8, 27, 64, 125, 216, 343, 512, 729, 1000]\n"
     ]
    }
   ],
   "source": [
    "#. Find the cube root of numbers from 1 to 10.\n",
    "cubes = [x**3 for x in range(1, 11)]\n",
    "print(cubes)"
   ]
  },
  {
   "cell_type": "code",
   "execution_count": 63,
   "id": "b56aa8c8-603a-4ee8-8fd5-e63f7ab1ce0b",
   "metadata": {
    "jupyter": {
     "source_hidden": true
    },
    "tags": []
   },
   "outputs": [
    {
     "name": "stdin",
     "output_type": "stream",
     "text": [
      "Enter a number:  52\n"
     ]
    },
    {
     "name": "stdout",
     "output_type": "stream",
     "text": [
      "The number is even\n"
     ]
    }
   ],
   "source": [
    "#. Check if a given number is even.\n",
    "# Define a lambda function to check if a number is even or odd\n",
    "check_even = lambda num: \"even\" if num % 2 == 0 else \"odd\"\n",
    "\n",
    "# Taking user input\n",
    "user_input = int(input(\"Enter a number: \"))\n",
    "\n",
    "# Checking if the input number is even or odd using the lambda function\n",
    "result = check_even(user_input)\n",
    "\n",
    "# Printing the result\n",
    "print(\"The number is\", result)"
   ]
  },
  {
   "cell_type": "code",
   "execution_count": 7,
   "id": "d0e25671-c396-4646-91cd-c54209a4c044",
   "metadata": {},
   "outputs": [
    {
     "name": "stdout",
     "output_type": "stream",
     "text": [
      "[1, 3, 5, 7, 9]\n"
     ]
    }
   ],
   "source": [
    "#. Filter odd numbers from the given list. \n",
    "#   [1,2,3,4,6,7,8,9,10]\n",
    "l =  [1,2,3,4,5,6,7,8,9,10]\n",
    "odd_no = list(filter( lambda x: x % 2 != 0, l))\n",
    "print(odd_no)"
   ]
  },
  {
   "cell_type": "code",
   "execution_count": 9,
   "id": "0cf7f231-2a58-4e41-9ce6-883b896412e4",
   "metadata": {},
   "outputs": [
    {
     "name": "stdout",
     "output_type": "stream",
     "text": [
      "Positive numbers: [1, 2, 3, 4, 5, 6, 0]\n",
      "Negative numbers: [-1, -2, -3, -4, -5]\n"
     ]
    }
   ],
   "source": [
    "#. Sort a list of integers into positive and negative integers lists.\n",
    "#   [1,2,3,4,5,6,-1,-2,-3,-4,-5,0]\n",
    "numbers = [1, 2, 3, 4, 5, 6, -1, -2, -3, -4, -5, 0]\n",
    "positive_numbers = [x for x in numbers if x >= 0]\n",
    "negative_numbers = [x for x in numbers if x < 0]\n",
    "print(\"Positive numbers:\", positive_numbers)\n",
    "print(\"Negative numbers:\", negative_numbers)"
   ]
  },
  {
   "cell_type": "code",
   "execution_count": null,
   "id": "7f3dc32e-e9e6-4917-90c3-9df48b4d89bd",
   "metadata": {},
   "outputs": [],
   "source": []
  }
 ],
 "metadata": {
  "kernelspec": {
   "display_name": "Python 3 (ipykernel)",
   "language": "python",
   "name": "python3"
  },
  "language_info": {
   "codemirror_mode": {
    "name": "ipython",
    "version": 3
   },
   "file_extension": ".py",
   "mimetype": "text/x-python",
   "name": "python",
   "nbconvert_exporter": "python",
   "pygments_lexer": "ipython3",
   "version": "3.10.8"
  }
 },
 "nbformat": 4,
 "nbformat_minor": 5
}
