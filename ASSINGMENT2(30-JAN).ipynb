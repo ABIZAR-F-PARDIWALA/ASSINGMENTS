{
 "cells": [
  {
   "cell_type": "markdown",
   "id": "ef8f521a-12ed-44a7-b941-2c55edba7158",
   "metadata": {},
   "source": [
    "Q.1 Write a program to accept percentage from the user and display the grade according to the following\n",
    "MARKS                GRADE\n",
    ">90                    A\n",
    ">80 and <=90           B\n",
    ">=60 and <=80          C\n",
    "below 60               D\n"
   ]
  },
  {
   "cell_type": "code",
   "execution_count": 13,
   "id": "c700e665-4227-4941-a2b2-310688ba4006",
   "metadata": {},
   "outputs": [
    {
     "name": "stdin",
     "output_type": "stream",
     "text": [
      "Enter Marks -> 12\n"
     ]
    },
    {
     "name": "stdout",
     "output_type": "stream",
     "text": [
      "Grade is D\n"
     ]
    }
   ],
   "source": [
    "Marks = int(input(\"Enter Marks ->\"))\n",
    "if (Marks >90) :\n",
    "    print(\"Grade is A\")\n",
    "elif (Marks > 80 and Marks <= 90) :\n",
    "        print(\"Grade is B\")\n",
    "elif (Marks >= 60 and Marks <= 80) :\n",
    "        print(\"Grade is C\")\n",
    "else :\n",
    "        print(\"Grade is D\")"
   ]
  },
  {
   "cell_type": "markdown",
   "id": "465b5f49-5cef-4975-9d93-9a3cff159b04",
   "metadata": {},
   "source": [
    "Q.2 Write a program to accept the cost price of a bike and display the road tax to be paid according to the following criteria:\n",
    "TAX   COST PRICE(im Rs)\n",
    "15%      >100000\n",
    "10%      >50000 and <=100000\n",
    "5%       <=50000"
   ]
  },
  {
   "cell_type": "code",
   "execution_count": 58,
   "id": "093edba0-0634-4d01-80b2-ac527a3e8ff3",
   "metadata": {},
   "outputs": [
    {
     "name": "stdin",
     "output_type": "stream",
     "text": [
      "Enter Cost Price of your Bike-> 60000\n"
     ]
    },
    {
     "name": "stdout",
     "output_type": "stream",
     "text": [
      "Bike Road Tax is-> 6000.0\n"
     ]
    }
   ],
   "source": [
    "CP = int(input(\"Enter Cost Price of your Bike->\"))\n",
    "if (CP > 100000):\n",
    "    Tax=(15/100)*CP\n",
    "    print(\"Bike Road Tax is->\",Tax)\n",
    "elif (CP >50000 and CP<= 100000):\n",
    "    Tax=(10/100)*CP\n",
    "    print(\"Bike Road Tax is->\",Tax)\n",
    "elif (CP <= 50000):\n",
    "    Tax=(5/100)*CP\n",
    "    print(\"Bike Road Tax is->\",Tax)     \n"
   ]
  },
  {
   "cell_type": "markdown",
   "id": "1309eb6e-26b8-4a8e-89ce-e48bcf4ae52f",
   "metadata": {},
   "source": [
    "Q.3 Accept any city from the user and display monuments of that city.\n",
    "City      Monuments\n",
    "Dehli     Red Fort\n",
    "Agra      Taj Mahal\n",
    "Jaipur    Jal Mahal"
   ]
  },
  {
   "cell_type": "code",
   "execution_count": 83,
   "id": "1e15e374-3452-4d87-ac41-e7cde9bd2c42",
   "metadata": {},
   "outputs": [
    {
     "name": "stdin",
     "output_type": "stream",
     "text": [
      "Enter a city:  l\n"
     ]
    },
    {
     "name": "stdout",
     "output_type": "stream",
     "text": [
      "Sorry, monument information not available\n"
     ]
    }
   ],
   "source": [
    "monuments = {'Delhi': 'Red Fort','Agra': 'Taj Mahal','Jaipur': 'Jal Mahal'}\n",
    "\n",
    "user_city = input(\"Enter a City: \")\n",
    "\n",
    "if user_city in monuments:\n",
    "    monument = monuments[user_city]\n",
    "    print(monument)\n",
    "else:\n",
    "    print(\"Sorry, this Monument information not available\")\n"
   ]
  },
  {
   "cell_type": "markdown",
   "id": "1189f1d5-9d54-445e-aab8-07b8f65a440a",
   "metadata": {},
   "source": [
    "Q.4 Check how many times a given number can be divided by 3 before it is less than or equal to 10."
   ]
  },
  {
   "cell_type": "code",
   "execution_count": 7,
   "id": "9a75a8b8-6af3-47c0-95e0-c956727b83dd",
   "metadata": {},
   "outputs": [
    {
     "name": "stdin",
     "output_type": "stream",
     "text": [
      "Enter a No:  21\n"
     ]
    },
    {
     "name": "stdout",
     "output_type": "stream",
     "text": [
      "The given No can be divided by 3, 1 times before it is less than or equal to 10.\n"
     ]
    }
   ],
   "source": [
    "num = int(input(\"Enter a No: \"))\n",
    "\n",
    "count = 0\n",
    "\n",
    "while num > 10:\n",
    "    num /= 3\n",
    "    count += 1\n",
    "\n",
    "print(f\"The given No can be divided by 3, {count} times before it is less than or equal to 10.\")"
   ]
  },
  {
   "cell_type": "markdown",
   "id": "07534942-eca2-4e53-a728-e5f859f05631",
   "metadata": {},
   "source": [
    "Q.5 Why and When to Use while Loop in Python give a detailed description with example "
   ]
  },
  {
   "cell_type": "markdown",
   "id": "e3c7f55a-1585-46bb-b9f5-a2b3ed06dc74",
   "metadata": {},
   "source": [
    "In Python, a `while` loop is used when you want to repeatedly execute a block of code as long as a certain condition is true. It allows you to iterate over a sequence of statements until the specified condition becomes false. The key advantage of a `while` loop is its flexibility, as it allows you to handle situations where you don't know in advance how many iterations are needed.\n",
    "\n",
    "Here's a detailed description along with an example to illustrate when and why to use a `while` loop:\n",
    "\n",
    "### Why use a `while` loop:\n",
    "\n",
    "1. **Unknown number of iterations:**\n",
    "   - When the exact number of iterations is unknown beforehand, a `while` loop is more suitable. This is in contrast to a `for` loop, which is better when you have a fixed number of iterations.\n",
    "\n",
    "2. **Dynamic conditions:**\n",
    "   - If the condition for termination or continuation is dynamic and may change during the loop execution, a `while` loop is appropriate. The loop continues until the condition becomes false.\n",
    "\n",
    "3. **Input-driven processing:**\n",
    "   - In scenarios where you need to process input until a certain condition is met, a `while` loop is commonly used. For example, reading user input until they enter a specific command.\n",
    "\n",
    "### When to use a `while` loop:\n",
    "\n",
    "- **Example: User Input Validation**\n",
    "\n",
    "```python\n",
    "# Simple example of using while loop for user input validation\n",
    "\n",
    "user_input = \"\"\n",
    "while user_input.lower() != \"yes\":\n",
    "    user_input = input(\"Do you want to continue? (yes/no): \")\n",
    "\n",
    "print(\"Program continues...\")\n",
    "```\n",
    "\n",
    "In this example, the program prompts the user to enter \"yes\" or \"no.\" The `while` loop continues until the user enters \"yes.\" This is a common use case where the number of iterations depends on user input, and a `while` loop is suitable.\n",
    "\n",
    "- **Example: Computing Powers of 2**\n",
    "\n",
    "```python\n",
    "# Using while loop to calculate powers of 2 until a limit is reached\n",
    "\n",
    "limit = 100\n",
    "result = 1\n",
    "power_of_two = 0\n",
    "\n",
    "while result <= limit:\n",
    "    print(f\"2^{power_of_two} = {result}\")\n",
    "    power_of_two += 1\n",
    "    result = 2 ** power_of_two\n",
    "```\n",
    "\n",
    "In this example, the `while` loop is used to calculate and print powers of 2 until the result exceeds a certain limit (100 in this case). The loop continues until the condition `result <= limit` becomes false.\n",
    "\n",
    "### Conclusion:\n",
    "\n",
    "In summary, use a `while` loop in Python when you need to iterate a block of code as long as a certain condition is true, especially in situations where the number of iterations is not known in advance or where the condition may change dynamically during execution. It provides flexibility in handling various scenarios where repeated execution is required."
   ]
  },
  {
   "cell_type": "markdown",
   "id": "a7dc0c91-bcf4-485d-a6b7-37abbe1e720c",
   "metadata": {},
   "source": [
    "Q.6 Use nested while loop to print 3 different pattern."
   ]
  },
  {
   "cell_type": "code",
   "execution_count": 8,
   "id": "318740e5-535a-4f2c-bcf7-6d3b6d480302",
   "metadata": {},
   "outputs": [
    {
     "name": "stdout",
     "output_type": "stream",
     "text": [
      "* * * * * \n",
      "* * * * * \n",
      "* * * * * \n",
      "* * * * * \n",
      "* * * * * \n"
     ]
    }
   ],
   "source": [
    "# Pattern 1: Square Pattern\n",
    "\n",
    "rows = 5\n",
    "i = 0\n",
    "\n",
    "while i < rows:\n",
    "    j = 0\n",
    "    while j < rows:\n",
    "        print(\"*\", end=\" \")\n",
    "        j += 1\n",
    "    print()\n",
    "    i += 1\n"
   ]
  },
  {
   "cell_type": "code",
   "execution_count": 9,
   "id": "cfdd0bc0-eea1-4b96-bc3a-7e54c9679082",
   "metadata": {},
   "outputs": [
    {
     "name": "stdout",
     "output_type": "stream",
     "text": [
      "* \n",
      "* * \n",
      "* * * \n",
      "* * * * \n",
      "* * * * * \n"
     ]
    }
   ],
   "source": [
    "# Pattern 2: Right Triangle Pattern\n",
    "\n",
    "rows = 5\n",
    "i = 0\n",
    "\n",
    "while i < rows:\n",
    "    j = 0\n",
    "    while j <= i:\n",
    "        print(\"*\", end=\" \")\n",
    "        j += 1\n",
    "    print()\n",
    "    i += 1\n"
   ]
  },
  {
   "cell_type": "code",
   "execution_count": 10,
   "id": "5b451841-9dfe-474b-981f-8566806bb9ce",
   "metadata": {},
   "outputs": [
    {
     "name": "stdout",
     "output_type": "stream",
     "text": [
      "        * \n",
      "      * * * \n",
      "    * * * * * \n",
      "  * * * * * * * \n",
      "* * * * * * * * * \n"
     ]
    }
   ],
   "source": [
    "# Pattern 3: Pyramid Pattern\n",
    "\n",
    "rows = 5\n",
    "i = 0\n",
    "\n",
    "while i < rows:\n",
    "    spaces = 0\n",
    "    while spaces < rows - i - 1:\n",
    "        print(\" \", end=\" \")\n",
    "        spaces += 1\n",
    "\n",
    "    stars = 0\n",
    "    while stars < 2 * i + 1:\n",
    "        print(\"*\", end=\" \")\n",
    "        stars += 1\n",
    "\n",
    "    print()\n",
    "    i += 1\n"
   ]
  },
  {
   "cell_type": "markdown",
   "id": "d25ce8d2-48b0-4ed2-94d3-aae5c690223f",
   "metadata": {},
   "source": [
    "Q.7 Reverse a while loop to display numbers from 10 to 1."
   ]
  },
  {
   "cell_type": "code",
   "execution_count": 11,
   "id": "ead02c1c-5392-40c0-825f-7bb12ed43930",
   "metadata": {},
   "outputs": [
    {
     "name": "stdout",
     "output_type": "stream",
     "text": [
      "10 9 8 7 6 5 4 3 2 1 "
     ]
    }
   ],
   "source": [
    "# Reverse while loop to display numbers from 10 to 1\n",
    "\n",
    "number = 10\n",
    "\n",
    "while number >= 1:\n",
    "    print(number, end=\" \")\n",
    "    number -= 1\n"
   ]
  },
  {
   "cell_type": "markdown",
   "id": "9d41beeb-a647-4346-9c0b-3659b66bd172",
   "metadata": {},
   "source": [
    "Q.8 Reverse while loop to display numbers from 10 to 1"
   ]
  },
  {
   "cell_type": "code",
   "execution_count": 12,
   "id": "72da5474-75b1-4ec9-8326-34859cab7f76",
   "metadata": {},
   "outputs": [
    {
     "name": "stdout",
     "output_type": "stream",
     "text": [
      "10 9 8 7 6 5 4 3 2 1 "
     ]
    }
   ],
   "source": [
    "# Reverse while loop to display numbers from 10 to 1\n",
    "\n",
    "number = 10\n",
    "\n",
    "while number >= 1:\n",
    "    print(number, end=\" \")\n",
    "    number -= 1\n"
   ]
  },
  {
   "cell_type": "code",
   "execution_count": null,
   "id": "1d11d3c9-f993-4c74-ba18-4a30d6190c75",
   "metadata": {},
   "outputs": [],
   "source": []
  }
 ],
 "metadata": {
  "kernelspec": {
   "display_name": "Python 3 (ipykernel)",
   "language": "python",
   "name": "python3"
  },
  "language_info": {
   "codemirror_mode": {
    "name": "ipython",
    "version": 3
   },
   "file_extension": ".py",
   "mimetype": "text/x-python",
   "name": "python",
   "nbconvert_exporter": "python",
   "pygments_lexer": "ipython3",
   "version": "3.10.8"
  }
 },
 "nbformat": 4,
 "nbformat_minor": 5
}
